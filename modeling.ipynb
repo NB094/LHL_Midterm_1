{
 "cells": [
  {
   "cell_type": "markdown",
   "metadata": {},
   "source": [
    "# Machine Learning\n",
    "\n",
    "In this file, instructions how to approach the challenge can be found."
   ]
  },
  {
   "cell_type": "markdown",
   "metadata": {},
   "source": [
    "We are going to work on different types of Machine Learning problems:\n",
    "\n",
    "- **Regression Problem**: The goal is to predict delay of flights.\n",
    "- **(Stretch) Multiclass Classification**: If the plane was delayed, we will predict what type of delay it is (will be).\n",
    "- **(Stretch) Binary Classification**: The goal is to predict if the flight will be cancelled."
   ]
  },
  {
   "cell_type": "code",
   "execution_count": 1,
   "metadata": {},
   "outputs": [],
   "source": [
    "import pandas as pd\n",
    "import numpy as np\n",
    "from sklearn.model_selection import train_test_split\n",
    "from sklearn.preprocessing import OneHotEncoder\n",
    "from sklearn.preprocessing import LabelEncoder\n",
    "from sklearn.pipeline import Pipeline"
   ]
  },
  {
   "cell_type": "code",
   "execution_count": null,
   "metadata": {},
   "outputs": [],
   "source": []
  },
  {
   "cell_type": "markdown",
   "metadata": {},
   "source": [
    "## Main Task: Regression Problem"
   ]
  },
  {
   "cell_type": "markdown",
   "metadata": {},
   "source": [
    "The target variable is **ARR_DELAY**. We need to be careful which columns to use and which don't. For example, DEP_DELAY is going to be the perfect predictor, but we can't use it because in real-life scenario, we want to predict the delay before the flight takes of --> We can use average delay from earlier days but not the one from the actual flight we predict.  \n",
    "\n",
    "For example, variables **CARRIER_DELAY, WEATHER_DELAY, NAS_DELAY, SECURITY_DELAY, LATE_AIRCRAFT_DELAY** shouldn't be used directly as predictors as well. However, we can create various transformations from earlier values.\n",
    "\n",
    "We will be evaluating your models by predicting the ARR_DELAY for all flights **1 week in advance**."
   ]
  },
  {
   "cell_type": "code",
   "execution_count": null,
   "metadata": {},
   "outputs": [],
   "source": []
  },
  {
   "cell_type": "code",
   "execution_count": null,
   "metadata": {},
   "outputs": [],
   "source": []
  },
  {
   "cell_type": "code",
   "execution_count": null,
   "metadata": {},
   "outputs": [],
   "source": []
  },
  {
   "cell_type": "code",
   "execution_count": null,
   "metadata": {},
   "outputs": [],
   "source": []
  },
  {
   "cell_type": "markdown",
   "metadata": {},
   "source": [
    "### Feature Engineering"
   ]
  },
  {
   "cell_type": "markdown",
   "metadata": {},
   "source": [
    "Feature engineering will play a crucial role in this problems. We have only very little attributes so we need to create some features that will have some predictive power.\n",
    "\n",
    "- weather: we can use some weather API to look for the weather in time of the scheduled departure and scheduled arrival.\n",
    "- statistics (avg, mean, median, std, min, max...): we can take a look at previous delays and compute descriptive statistics\n",
    "- airports encoding: we need to think about what to do with the airports and other categorical variables\n",
    "- time of the day: the delay probably depends on the airport traffic which varies during the day.\n",
    "- airport traffic\n",
    "- unsupervised learning as feature engineering?\n",
    "- **what are the additional options?**: Think about what we could do more to improve the model."
   ]
  },
  {
   "cell_type": "code",
   "execution_count": null,
   "metadata": {},
   "outputs": [],
   "source": []
  },
  {
   "cell_type": "code",
   "execution_count": null,
   "metadata": {},
   "outputs": [],
   "source": []
  },
  {
   "cell_type": "code",
   "execution_count": null,
   "metadata": {},
   "outputs": [],
   "source": []
  },
  {
   "cell_type": "code",
   "execution_count": null,
   "metadata": {},
   "outputs": [],
   "source": []
  },
  {
   "cell_type": "code",
   "execution_count": null,
   "metadata": {},
   "outputs": [],
   "source": []
  },
  {
   "cell_type": "markdown",
   "metadata": {},
   "source": [
    "### Feature Selection / Dimensionality Reduction"
   ]
  },
  {
   "cell_type": "markdown",
   "metadata": {},
   "source": [
    "We need to apply different selection techniques to find out which one will be the best for our problems.\n",
    "\n",
    "- Original Features vs. PCA conponents?"
   ]
  },
  {
   "cell_type": "code",
   "execution_count": 2,
   "metadata": {},
   "outputs": [],
   "source": [
    "#Holidays?"
   ]
  },
  {
   "cell_type": "code",
   "execution_count": 3,
   "metadata": {},
   "outputs": [],
   "source": [
    "df = pd.read_csv('df_flights_final.csv')\n",
    "\n",
    "#drop flight date and first column\n",
    "df = df.drop(columns='Unnamed: 0')\n",
    "df.drop(\"fl_date\",axis=1, inplace=True)"
   ]
  },
  {
   "cell_type": "code",
   "execution_count": 4,
   "metadata": {},
   "outputs": [],
   "source": [
    "df.drop(['dest_airport_id', 'tail_num', 'state'], axis = 1, inplace=True)"
   ]
  },
  {
   "cell_type": "code",
   "execution_count": 5,
   "metadata": {},
   "outputs": [
    {
     "data": {
      "text/plain": [
       "(10000, 35)"
      ]
     },
     "execution_count": 5,
     "metadata": {},
     "output_type": "execute_result"
    }
   ],
   "source": [
    "# random sample of 10000 rows\n",
    "df_small = df.sample(n = 10000)\n",
    "df_small.shape"
   ]
  },
  {
   "cell_type": "code",
   "execution_count": 6,
   "metadata": {},
   "outputs": [],
   "source": [
    "y = df_small.arr_delay\n",
    "df_small.drop(\"arr_delay\",axis=1, inplace=True)\n",
    "X = df_small"
   ]
  },
  {
   "cell_type": "code",
   "execution_count": 8,
   "metadata": {
    "tags": []
   },
   "outputs": [],
   "source": [
    "X_train, X_test, y_train, y_test = train_test_split(X, y, test_size=0.25)"
   ]
  },
  {
   "cell_type": "code",
   "execution_count": 9,
   "metadata": {},
   "outputs": [
    {
     "data": {
      "text/plain": [
       "Index(['mkt_unique_carrier', 'op_unique_carrier', 'origin', 'dest'], dtype='object')"
      ]
     },
     "execution_count": 9,
     "metadata": {},
     "output_type": "execute_result"
    }
   ],
   "source": [
    "# features with dtype is object\n",
    "categorical_columns = X_train.columns[X_train.dtypes == \"object\"]\n",
    "categorical_columns"
   ]
  },
  {
   "cell_type": "code",
   "execution_count": 10,
   "metadata": {},
   "outputs": [],
   "source": [
    "# Encode categorical features as a one-hot numeric array\n",
    "#enc = OneHotEncoder(handle_unknown='ignore')\n",
    "#transformed_columns = enc.fit_transform(X_train[['mkt_unique_carrier', 'op_unique_carrier', 'origin', 'dest']])"
   ]
  },
  {
   "cell_type": "code",
   "execution_count": 11,
   "metadata": {},
   "outputs": [],
   "source": [
    "# Transform non-numerical labels to numerical labels"
   ]
  },
  {
   "cell_type": "code",
   "execution_count": 12,
   "metadata": {},
   "outputs": [],
   "source": [
    "class MultiColumnLabelEncoder:\n",
    "    def __init__(self,columns = None):\n",
    "        self.columns = columns # array of column names to encode\n",
    "\n",
    "    def fit(self,X,y=None):\n",
    "        return self # not relevant here\n",
    "\n",
    "    def transform(self,X):\n",
    "        '''\n",
    "        Transforms columns of X specified in self.columns using\n",
    "        LabelEncoder(). If no columns specified, transforms all\n",
    "        columns in X.\n",
    "        '''\n",
    "        output = X.copy()\n",
    "        if self.columns is not None:\n",
    "            for col in self.columns:\n",
    "                output[col] = LabelEncoder().fit_transform(output[col])\n",
    "        else:\n",
    "            for colname,col in output.iteritems():\n",
    "                output[colname] = LabelEncoder().fit_transform(col)\n",
    "        return output\n",
    "\n",
    "    def fit_transform(self,X,y=None):\n",
    "        return self.fit(X,y).transform(X)"
   ]
  },
  {
   "cell_type": "code",
   "execution_count": 13,
   "metadata": {
    "tags": []
   },
   "outputs": [],
   "source": [
    "X_train = MultiColumnLabelEncoder(columns = ['origin_airport_id', 'mkt_unique_carrier', 'op_unique_carrier', 'origin', 'dest']).fit_transform(X_train)"
   ]
  },
  {
   "cell_type": "code",
   "execution_count": 14,
   "metadata": {},
   "outputs": [
    {
     "data": {
      "text/html": [
       "<div>\n",
       "<style scoped>\n",
       "    .dataframe tbody tr th:only-of-type {\n",
       "        vertical-align: middle;\n",
       "    }\n",
       "\n",
       "    .dataframe tbody tr th {\n",
       "        vertical-align: top;\n",
       "    }\n",
       "\n",
       "    .dataframe thead th {\n",
       "        text-align: right;\n",
       "    }\n",
       "</style>\n",
       "<table border=\"1\" class=\"dataframe\">\n",
       "  <thead>\n",
       "    <tr style=\"text-align: right;\">\n",
       "      <th></th>\n",
       "      <th>mkt_unique_carrier</th>\n",
       "      <th>op_unique_carrier</th>\n",
       "      <th>origin_airport_id</th>\n",
       "      <th>origin</th>\n",
       "      <th>dest</th>\n",
       "      <th>crs_dep_time</th>\n",
       "      <th>crs_arr_time</th>\n",
       "      <th>crs_elapsed_time</th>\n",
       "      <th>distance</th>\n",
       "      <th>fl_day</th>\n",
       "      <th>...</th>\n",
       "      <th>dep_mean_hourly_delay</th>\n",
       "      <th>arr_mean_hourly_delay</th>\n",
       "      <th>dep_std_hourly_delay</th>\n",
       "      <th>arr_std_hourly_delay</th>\n",
       "      <th>mean_mkt_carrier_delay</th>\n",
       "      <th>mean_op_carrier_delay</th>\n",
       "      <th>std_mkt_carrier_delay</th>\n",
       "      <th>std_op_carrier_delay</th>\n",
       "      <th>mean_tail_num_arr_delay</th>\n",
       "      <th>std_tail_num_arr_delay</th>\n",
       "    </tr>\n",
       "  </thead>\n",
       "  <tbody>\n",
       "    <tr>\n",
       "      <th>60817</th>\n",
       "      <td>3</td>\n",
       "      <td>7</td>\n",
       "      <td>281</td>\n",
       "      <td>281</td>\n",
       "      <td>251</td>\n",
       "      <td>1412</td>\n",
       "      <td>1640</td>\n",
       "      <td>208.0</td>\n",
       "      <td>1216.0</td>\n",
       "      <td>3</td>\n",
       "      <td>...</td>\n",
       "      <td>12.756996</td>\n",
       "      <td>8.215507</td>\n",
       "      <td>34.773392</td>\n",
       "      <td>37.863256</td>\n",
       "      <td>3.100823</td>\n",
       "      <td>2.427403</td>\n",
       "      <td>16.979937</td>\n",
       "      <td>14.086325</td>\n",
       "      <td>1.157895</td>\n",
       "      <td>25.235036</td>\n",
       "    </tr>\n",
       "    <tr>\n",
       "      <th>54321</th>\n",
       "      <td>8</td>\n",
       "      <td>21</td>\n",
       "      <td>261</td>\n",
       "      <td>261</td>\n",
       "      <td>202</td>\n",
       "      <td>1620</td>\n",
       "      <td>2020</td>\n",
       "      <td>180.0</td>\n",
       "      <td>1250.0</td>\n",
       "      <td>3</td>\n",
       "      <td>...</td>\n",
       "      <td>14.393480</td>\n",
       "      <td>11.125661</td>\n",
       "      <td>37.446605</td>\n",
       "      <td>43.969117</td>\n",
       "      <td>3.414305</td>\n",
       "      <td>3.152323</td>\n",
       "      <td>17.667574</td>\n",
       "      <td>15.536797</td>\n",
       "      <td>-1.000000</td>\n",
       "      <td>21.329613</td>\n",
       "    </tr>\n",
       "    <tr>\n",
       "      <th>114410</th>\n",
       "      <td>9</td>\n",
       "      <td>22</td>\n",
       "      <td>151</td>\n",
       "      <td>151</td>\n",
       "      <td>234</td>\n",
       "      <td>1800</td>\n",
       "      <td>1920</td>\n",
       "      <td>80.0</td>\n",
       "      <td>345.0</td>\n",
       "      <td>6</td>\n",
       "      <td>...</td>\n",
       "      <td>16.602144</td>\n",
       "      <td>10.184557</td>\n",
       "      <td>39.663138</td>\n",
       "      <td>42.358665</td>\n",
       "      <td>5.081818</td>\n",
       "      <td>5.081818</td>\n",
       "      <td>17.168188</td>\n",
       "      <td>17.168188</td>\n",
       "      <td>1.318182</td>\n",
       "      <td>20.800014</td>\n",
       "    </tr>\n",
       "    <tr>\n",
       "      <th>122518</th>\n",
       "      <td>3</td>\n",
       "      <td>12</td>\n",
       "      <td>269</td>\n",
       "      <td>269</td>\n",
       "      <td>63</td>\n",
       "      <td>1220</td>\n",
       "      <td>1429</td>\n",
       "      <td>69.0</td>\n",
       "      <td>308.0</td>\n",
       "      <td>6</td>\n",
       "      <td>...</td>\n",
       "      <td>9.213188</td>\n",
       "      <td>3.873598</td>\n",
       "      <td>30.555721</td>\n",
       "      <td>34.177841</td>\n",
       "      <td>3.100823</td>\n",
       "      <td>4.139578</td>\n",
       "      <td>16.979937</td>\n",
       "      <td>18.343566</td>\n",
       "      <td>26.055556</td>\n",
       "      <td>63.062501</td>\n",
       "    </tr>\n",
       "    <tr>\n",
       "      <th>131316</th>\n",
       "      <td>0</td>\n",
       "      <td>15</td>\n",
       "      <td>289</td>\n",
       "      <td>289</td>\n",
       "      <td>202</td>\n",
       "      <td>1541</td>\n",
       "      <td>1734</td>\n",
       "      <td>113.0</td>\n",
       "      <td>522.0</td>\n",
       "      <td>7</td>\n",
       "      <td>...</td>\n",
       "      <td>13.025412</td>\n",
       "      <td>8.215507</td>\n",
       "      <td>34.956169</td>\n",
       "      <td>37.863256</td>\n",
       "      <td>4.098024</td>\n",
       "      <td>2.936698</td>\n",
       "      <td>18.659873</td>\n",
       "      <td>14.080183</td>\n",
       "      <td>9.571429</td>\n",
       "      <td>24.905536</td>\n",
       "    </tr>\n",
       "    <tr>\n",
       "      <th>...</th>\n",
       "      <td>...</td>\n",
       "      <td>...</td>\n",
       "      <td>...</td>\n",
       "      <td>...</td>\n",
       "      <td>...</td>\n",
       "      <td>...</td>\n",
       "      <td>...</td>\n",
       "      <td>...</td>\n",
       "      <td>...</td>\n",
       "      <td>...</td>\n",
       "      <td>...</td>\n",
       "      <td>...</td>\n",
       "      <td>...</td>\n",
       "      <td>...</td>\n",
       "      <td>...</td>\n",
       "      <td>...</td>\n",
       "      <td>...</td>\n",
       "      <td>...</td>\n",
       "      <td>...</td>\n",
       "      <td>...</td>\n",
       "      <td>...</td>\n",
       "    </tr>\n",
       "    <tr>\n",
       "      <th>131497</th>\n",
       "      <td>0</td>\n",
       "      <td>17</td>\n",
       "      <td>244</td>\n",
       "      <td>244</td>\n",
       "      <td>54</td>\n",
       "      <td>1952</td>\n",
       "      <td>2111</td>\n",
       "      <td>79.0</td>\n",
       "      <td>213.0</td>\n",
       "      <td>7</td>\n",
       "      <td>...</td>\n",
       "      <td>19.120787</td>\n",
       "      <td>12.272941</td>\n",
       "      <td>42.202577</td>\n",
       "      <td>44.169176</td>\n",
       "      <td>4.098024</td>\n",
       "      <td>3.554984</td>\n",
       "      <td>18.659873</td>\n",
       "      <td>18.181722</td>\n",
       "      <td>23.439024</td>\n",
       "      <td>43.721876</td>\n",
       "    </tr>\n",
       "    <tr>\n",
       "      <th>12076</th>\n",
       "      <td>0</td>\n",
       "      <td>19</td>\n",
       "      <td>236</td>\n",
       "      <td>236</td>\n",
       "      <td>54</td>\n",
       "      <td>1618</td>\n",
       "      <td>1734</td>\n",
       "      <td>76.0</td>\n",
       "      <td>155.0</td>\n",
       "      <td>1</td>\n",
       "      <td>...</td>\n",
       "      <td>14.393480</td>\n",
       "      <td>8.215507</td>\n",
       "      <td>37.446605</td>\n",
       "      <td>37.863256</td>\n",
       "      <td>4.098024</td>\n",
       "      <td>3.243643</td>\n",
       "      <td>18.659873</td>\n",
       "      <td>15.827478</td>\n",
       "      <td>20.275862</td>\n",
       "      <td>61.609635</td>\n",
       "    </tr>\n",
       "    <tr>\n",
       "      <th>104845</th>\n",
       "      <td>3</td>\n",
       "      <td>7</td>\n",
       "      <td>280</td>\n",
       "      <td>280</td>\n",
       "      <td>13</td>\n",
       "      <td>600</td>\n",
       "      <td>856</td>\n",
       "      <td>116.0</td>\n",
       "      <td>674.0</td>\n",
       "      <td>6</td>\n",
       "      <td>...</td>\n",
       "      <td>-2.813004</td>\n",
       "      <td>-6.334801</td>\n",
       "      <td>7.026809</td>\n",
       "      <td>19.292029</td>\n",
       "      <td>3.100823</td>\n",
       "      <td>2.427403</td>\n",
       "      <td>16.979937</td>\n",
       "      <td>14.086325</td>\n",
       "      <td>-4.894737</td>\n",
       "      <td>14.552185</td>\n",
       "    </tr>\n",
       "    <tr>\n",
       "      <th>101176</th>\n",
       "      <td>8</td>\n",
       "      <td>18</td>\n",
       "      <td>80</td>\n",
       "      <td>80</td>\n",
       "      <td>70</td>\n",
       "      <td>1639</td>\n",
       "      <td>1740</td>\n",
       "      <td>61.0</td>\n",
       "      <td>120.0</td>\n",
       "      <td>5</td>\n",
       "      <td>...</td>\n",
       "      <td>14.393480</td>\n",
       "      <td>8.215507</td>\n",
       "      <td>37.446605</td>\n",
       "      <td>37.863256</td>\n",
       "      <td>3.414305</td>\n",
       "      <td>4.461860</td>\n",
       "      <td>17.667574</td>\n",
       "      <td>22.749432</td>\n",
       "      <td>9.920000</td>\n",
       "      <td>29.698373</td>\n",
       "    </tr>\n",
       "    <tr>\n",
       "      <th>145846</th>\n",
       "      <td>0</td>\n",
       "      <td>1</td>\n",
       "      <td>69</td>\n",
       "      <td>69</td>\n",
       "      <td>33</td>\n",
       "      <td>1230</td>\n",
       "      <td>1353</td>\n",
       "      <td>83.0</td>\n",
       "      <td>399.0</td>\n",
       "      <td>8</td>\n",
       "      <td>...</td>\n",
       "      <td>9.213188</td>\n",
       "      <td>2.091566</td>\n",
       "      <td>30.555721</td>\n",
       "      <td>33.496974</td>\n",
       "      <td>4.098024</td>\n",
       "      <td>4.345640</td>\n",
       "      <td>18.659873</td>\n",
       "      <td>18.663056</td>\n",
       "      <td>-3.592593</td>\n",
       "      <td>19.694316</td>\n",
       "    </tr>\n",
       "  </tbody>\n",
       "</table>\n",
       "<p>7500 rows × 34 columns</p>\n",
       "</div>"
      ],
      "text/plain": [
       "        mkt_unique_carrier  op_unique_carrier  origin_airport_id  origin  \\\n",
       "60817                    3                  7                281     281   \n",
       "54321                    8                 21                261     261   \n",
       "114410                   9                 22                151     151   \n",
       "122518                   3                 12                269     269   \n",
       "131316                   0                 15                289     289   \n",
       "...                    ...                ...                ...     ...   \n",
       "131497                   0                 17                244     244   \n",
       "12076                    0                 19                236     236   \n",
       "104845                   3                  7                280     280   \n",
       "101176                   8                 18                 80      80   \n",
       "145846                   0                  1                 69      69   \n",
       "\n",
       "        dest  crs_dep_time  crs_arr_time  crs_elapsed_time  distance  fl_day  \\\n",
       "60817    251          1412          1640             208.0    1216.0       3   \n",
       "54321    202          1620          2020             180.0    1250.0       3   \n",
       "114410   234          1800          1920              80.0     345.0       6   \n",
       "122518    63          1220          1429              69.0     308.0       6   \n",
       "131316   202          1541          1734             113.0     522.0       7   \n",
       "...      ...           ...           ...               ...       ...     ...   \n",
       "131497    54          1952          2111              79.0     213.0       7   \n",
       "12076     54          1618          1734              76.0     155.0       1   \n",
       "104845    13           600           856             116.0     674.0       6   \n",
       "101176    70          1639          1740              61.0     120.0       5   \n",
       "145846    33          1230          1353              83.0     399.0       8   \n",
       "\n",
       "        ...  dep_mean_hourly_delay  arr_mean_hourly_delay  \\\n",
       "60817   ...              12.756996               8.215507   \n",
       "54321   ...              14.393480              11.125661   \n",
       "114410  ...              16.602144              10.184557   \n",
       "122518  ...               9.213188               3.873598   \n",
       "131316  ...              13.025412               8.215507   \n",
       "...     ...                    ...                    ...   \n",
       "131497  ...              19.120787              12.272941   \n",
       "12076   ...              14.393480               8.215507   \n",
       "104845  ...              -2.813004              -6.334801   \n",
       "101176  ...              14.393480               8.215507   \n",
       "145846  ...               9.213188               2.091566   \n",
       "\n",
       "        dep_std_hourly_delay  arr_std_hourly_delay  mean_mkt_carrier_delay  \\\n",
       "60817              34.773392             37.863256                3.100823   \n",
       "54321              37.446605             43.969117                3.414305   \n",
       "114410             39.663138             42.358665                5.081818   \n",
       "122518             30.555721             34.177841                3.100823   \n",
       "131316             34.956169             37.863256                4.098024   \n",
       "...                      ...                   ...                     ...   \n",
       "131497             42.202577             44.169176                4.098024   \n",
       "12076              37.446605             37.863256                4.098024   \n",
       "104845              7.026809             19.292029                3.100823   \n",
       "101176             37.446605             37.863256                3.414305   \n",
       "145846             30.555721             33.496974                4.098024   \n",
       "\n",
       "        mean_op_carrier_delay  std_mkt_carrier_delay  std_op_carrier_delay  \\\n",
       "60817                2.427403              16.979937             14.086325   \n",
       "54321                3.152323              17.667574             15.536797   \n",
       "114410               5.081818              17.168188             17.168188   \n",
       "122518               4.139578              16.979937             18.343566   \n",
       "131316               2.936698              18.659873             14.080183   \n",
       "...                       ...                    ...                   ...   \n",
       "131497               3.554984              18.659873             18.181722   \n",
       "12076                3.243643              18.659873             15.827478   \n",
       "104845               2.427403              16.979937             14.086325   \n",
       "101176               4.461860              17.667574             22.749432   \n",
       "145846               4.345640              18.659873             18.663056   \n",
       "\n",
       "        mean_tail_num_arr_delay  std_tail_num_arr_delay  \n",
       "60817                  1.157895               25.235036  \n",
       "54321                 -1.000000               21.329613  \n",
       "114410                 1.318182               20.800014  \n",
       "122518                26.055556               63.062501  \n",
       "131316                 9.571429               24.905536  \n",
       "...                         ...                     ...  \n",
       "131497                23.439024               43.721876  \n",
       "12076                 20.275862               61.609635  \n",
       "104845                -4.894737               14.552185  \n",
       "101176                 9.920000               29.698373  \n",
       "145846                -3.592593               19.694316  \n",
       "\n",
       "[7500 rows x 34 columns]"
      ]
     },
     "execution_count": 14,
     "metadata": {},
     "output_type": "execute_result"
    }
   ],
   "source": [
    "X_train"
   ]
  },
  {
   "cell_type": "code",
   "execution_count": 15,
   "metadata": {
    "tags": []
   },
   "outputs": [],
   "source": [
    "#df_transformed_columns = pd.DataFrame(transformed_columns.todense())"
   ]
  },
  {
   "cell_type": "code",
   "execution_count": 16,
   "metadata": {},
   "outputs": [],
   "source": [
    "#df_transformed_columns"
   ]
  },
  {
   "cell_type": "code",
   "execution_count": 17,
   "metadata": {},
   "outputs": [],
   "source": [
    "# concatinating X_train and encoded values"
   ]
  },
  {
   "cell_type": "code",
   "execution_count": 18,
   "metadata": {},
   "outputs": [],
   "source": [
    "#X_train = pd.concat([X_train.drop(columns = categorical_columns).reset_index(), df_transformed_columns], axis=1)"
   ]
  },
  {
   "cell_type": "code",
   "execution_count": 19,
   "metadata": {},
   "outputs": [],
   "source": [
    "#X_train.drop(\"index\",axis=1, inplace=True)"
   ]
  },
  {
   "cell_type": "code",
   "execution_count": 20,
   "metadata": {},
   "outputs": [],
   "source": [
    "#X_train"
   ]
  },
  {
   "cell_type": "code",
   "execution_count": 21,
   "metadata": {},
   "outputs": [],
   "source": [
    "#from sklearn.preprocessing import StandardScaler"
   ]
  },
  {
   "cell_type": "code",
   "execution_count": 22,
   "metadata": {},
   "outputs": [],
   "source": [
    "#data_for_scaling = X_train[['crs_dep_time', 'crs_arr_time', 'arr_delay', 'crs_elapsed_time',\n",
    "       #'distance', 'hour_of_day_dep', 'hour_of_day_arr',\n",
    "       #'daily_arr_delay_mean', 'daily_carrier_delay_mean',\n",
    "       #'daily_weather_delay_mean', 'daily_nas_delay_mean',\n",
    "       #'daily_security_delay_mean', 'daily_late_aircraft_delay_mean',\n",
    "       #'daily_arr_delay_std', 'daily_carrier_delay_std',\n",
    "       #'daily_weather_delay_std', 'daily_nas_delay_std',\n",
    "       #'daily_security_delay_std', 'daily_late_aircraft_delay_std',\n",
    "       #'dep_mean_hourly_delay', 'arr_mean_hourly_delay',\n",
    "       #'dep_std_hourly_delay', 'arr_std_hourly_delay',\n",
    "       #'mean_mkt_carrier_delay', 'mean_op_carrier_delay',\n",
    "       #'std_mkt_carrier_delay', 'std_op_carrier_delay',\n",
    "       #'mean_tail_num_arr_delay']]\n",
    "#data_for_scaling.head()"
   ]
  },
  {
   "cell_type": "code",
   "execution_count": 23,
   "metadata": {},
   "outputs": [],
   "source": [
    "#scaling data\n",
    "#scaler = StandardScaler()\n",
    "#scaler.fit(data_for_scaling)"
   ]
  },
  {
   "cell_type": "code",
   "execution_count": 24,
   "metadata": {},
   "outputs": [],
   "source": [
    "#scaled_data"
   ]
  },
  {
   "cell_type": "code",
   "execution_count": 25,
   "metadata": {},
   "outputs": [],
   "source": [
    "# concatinating X_train and scaled values\n",
    "\n",
    "#X_train = pd.concat([X_train.reset_index(), scaled_data]"
   ]
  },
  {
   "cell_type": "code",
   "execution_count": 26,
   "metadata": {},
   "outputs": [],
   "source": [
    "#from sklearn.feature_selection import f_regression, SelectKBest\n",
    "#skb = SelectKBest(f_regression, k=20)\n",
    "#X_train = skb.fit_transform(X_train, y_train)"
   ]
  },
  {
   "cell_type": "markdown",
   "metadata": {},
   "source": [
    "### Modeling"
   ]
  },
  {
   "cell_type": "markdown",
   "metadata": {},
   "source": [
    "Use different ML techniques to predict each problem.\n",
    "\n",
    "- linear / logistic / multinomial logistic regression\n",
    "- Naive Bayes\n",
    "- Random Forest\n",
    "- SVM\n",
    "- XGBoost\n",
    "- The ensemble of your own choice"
   ]
  },
  {
   "cell_type": "code",
   "execution_count": 34,
   "metadata": {},
   "outputs": [],
   "source": [
    "from sklearn.linear_model import LogisticRegression\n",
    "logreg = LogisticRegression(max_iter=10000)"
   ]
  },
  {
   "cell_type": "code",
   "execution_count": 35,
   "metadata": {},
   "outputs": [
    {
     "name": "stderr",
     "output_type": "stream",
     "text": [
      "/Users/katrindar/opt/anaconda3/lib/python3.8/site-packages/sklearn/linear_model/_logistic.py:762: ConvergenceWarning: lbfgs failed to converge (status=1):\n",
      "STOP: TOTAL NO. of ITERATIONS REACHED LIMIT.\n",
      "\n",
      "Increase the number of iterations (max_iter) or scale the data as shown in:\n",
      "    https://scikit-learn.org/stable/modules/preprocessing.html\n",
      "Please also refer to the documentation for alternative solver options:\n",
      "    https://scikit-learn.org/stable/modules/linear_model.html#logistic-regression\n",
      "  n_iter_i = _check_optimize_result(\n"
     ]
    },
    {
     "data": {
      "text/plain": [
       "LogisticRegression(max_iter=10000)"
      ]
     },
     "execution_count": 35,
     "metadata": {},
     "output_type": "execute_result"
    }
   ],
   "source": [
    "logreg.fit(X_train,y_train)"
   ]
  },
  {
   "cell_type": "code",
   "execution_count": null,
   "metadata": {},
   "outputs": [],
   "source": [
    "y_pred=logreg.predict(X_test)"
   ]
  },
  {
   "cell_type": "code",
   "execution_count": null,
   "metadata": {},
   "outputs": [],
   "source": [
    "from sklearn import metrics\n",
    "cnf_matrix = metrics.confusion_matrix(y_test, y_pred)"
   ]
  },
  {
   "cell_type": "code",
   "execution_count": null,
   "metadata": {},
   "outputs": [],
   "source": [
    "print(\"Accuracy:\",metrics.accuracy_score(y_test, y_pred))\n",
    "print(\"Precision:\",metrics.precision_score(y_test, y_pred))\n",
    "print(\"Recall:\",metrics.recall_score(y_test, y_pred))"
   ]
  },
  {
   "cell_type": "markdown",
   "metadata": {},
   "source": [
    "### Evaluation"
   ]
  },
  {
   "cell_type": "markdown",
   "metadata": {},
   "source": [
    "You have data from 2018 and 2019 to develop models. Use different evaluation metrics for each problem and compare the performance of different models.\n",
    "\n",
    "You are required to predict delays on **out of sample** data from **first 7 days (1st-7th) of January 2020** and to share the file with LighthouseLabs. Sample submission can be found in the file **_sample_submission.csv_**"
   ]
  },
  {
   "cell_type": "code",
   "execution_count": null,
   "metadata": {},
   "outputs": [],
   "source": []
  },
  {
   "cell_type": "code",
   "execution_count": null,
   "metadata": {},
   "outputs": [],
   "source": []
  },
  {
   "cell_type": "code",
   "execution_count": null,
   "metadata": {},
   "outputs": [],
   "source": []
  },
  {
   "cell_type": "code",
   "execution_count": null,
   "metadata": {},
   "outputs": [],
   "source": []
  },
  {
   "cell_type": "markdown",
   "metadata": {},
   "source": [
    "======================================================================\n",
    "## Stretch Tasks"
   ]
  },
  {
   "cell_type": "markdown",
   "metadata": {},
   "source": [
    "### Multiclass Classification"
   ]
  },
  {
   "cell_type": "markdown",
   "metadata": {},
   "source": [
    "The target variables are **CARRIER_DELAY, WEATHER_DELAY, NAS_DELAY, SECURITY_DELAY, LATE_AIRCRAFT_DELAY**. We need to do additional transformations because these variables are not binary but continuos. For each flight that was delayed, we need to have one of these variables as 1 and others 0.\n",
    "\n",
    "It can happen that we have two types of delays with more than 0 minutes. In this case, take the bigger one as 1 and others as 0."
   ]
  },
  {
   "cell_type": "code",
   "execution_count": null,
   "metadata": {},
   "outputs": [],
   "source": []
  },
  {
   "cell_type": "code",
   "execution_count": null,
   "metadata": {},
   "outputs": [],
   "source": []
  },
  {
   "cell_type": "code",
   "execution_count": null,
   "metadata": {},
   "outputs": [],
   "source": []
  },
  {
   "cell_type": "markdown",
   "metadata": {},
   "source": [
    "### Binary Classification"
   ]
  },
  {
   "cell_type": "markdown",
   "metadata": {},
   "source": [
    "The target variable is **CANCELLED**. The main problem here is going to be huge class imbalance. We have only very little cancelled flights with comparison to all flights. It is important to do the right sampling before training and to choose correct evaluation metrics."
   ]
  },
  {
   "cell_type": "code",
   "execution_count": null,
   "metadata": {},
   "outputs": [],
   "source": []
  },
  {
   "cell_type": "code",
   "execution_count": null,
   "metadata": {},
   "outputs": [],
   "source": []
  },
  {
   "cell_type": "code",
   "execution_count": null,
   "metadata": {},
   "outputs": [],
   "source": []
  },
  {
   "cell_type": "code",
   "execution_count": null,
   "metadata": {},
   "outputs": [],
   "source": []
  }
 ],
 "metadata": {
  "kernelspec": {
   "display_name": "Python 3",
   "language": "python",
   "name": "python3"
  },
  "language_info": {
   "codemirror_mode": {
    "name": "ipython",
    "version": 3
   },
   "file_extension": ".py",
   "mimetype": "text/x-python",
   "name": "python",
   "nbconvert_exporter": "python",
   "pygments_lexer": "ipython3",
   "version": "3.8.8"
  }
 },
 "nbformat": 4,
 "nbformat_minor": 4
}
