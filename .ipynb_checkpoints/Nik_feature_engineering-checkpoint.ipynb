{
 "cells": [
  {
   "cell_type": "code",
   "execution_count": 1,
   "id": "000245b4-64a9-4e73-b9a9-eaeda2fd6eee",
   "metadata": {},
   "outputs": [],
   "source": [
    "import pandas as pd\n",
    "import os\n",
    "import requests as re\n",
    "import datetime\n",
    "import time\n",
    "from IPython.display import JSON\n",
    "import json"
   ]
  },
  {
   "cell_type": "markdown",
   "id": "62cad335-f622-4906-9b28-bdd687f846bb",
   "metadata": {},
   "source": [
    "# Import Dataframes"
   ]
  },
  {
   "cell_type": "markdown",
   "id": "12dfb33c-4a54-4d1f-b295-7601eb4f6d18",
   "metadata": {},
   "source": [
    "### Flights"
   ]
  },
  {
   "cell_type": "code",
   "execution_count": 2,
   "id": "309be76e-e3d5-41ce-9917-31eb4f1c8162",
   "metadata": {},
   "outputs": [],
   "source": [
    "pd.set_option('max_columns', None)\n",
    "#pd.reset_option('max_columns')"
   ]
  },
  {
   "cell_type": "code",
   "execution_count": 3,
   "id": "db3edd2f-fd66-4b2c-88f3-c8c689231a6f",
   "metadata": {
    "tags": []
   },
   "outputs": [],
   "source": [
    "# Import df_flights dataframes. Specify datatype of cancellation_code so there are not mixed datatypes present.\n",
    "# We will use statistics from the last week of December 2018 to help predict the first week of January 2019.\n",
    "\n",
    "# df_flights_Dec_2018:   Dec 24 - 31, 2018\n",
    "# df_flights_Dec_2019:   Dec 24 - 31, 2019\n",
    "# df_flights:            Jan 1 - 8, 2019 (after filtering)\n",
    "# df_flights_test:       Jan 1 - 8, 2020\n",
    "\n",
    "df_flights_Dec_2018 = pd.read_csv('flights_Dec_2018.csv', dtype={'cancellation_code':'object'})\n",
    "df_flights_Dec_2019 = pd.read_csv('flights_Dec_2019.csv', dtype={'cancellation_code':'object'})\n",
    "df_flights = pd.read_csv('flights_data.csv', dtype={'cancellation_code':'object'})\n",
    "\n",
    "# Filter df_flights to exclude January 2018\n",
    "df_flights = df_flights[df_flights['fl_date'] >= '2019-01-01']"
   ]
  },
  {
   "cell_type": "code",
   "execution_count": 4,
   "id": "4b5a7679-adcc-4990-8033-a19eacdd735f",
   "metadata": {},
   "outputs": [],
   "source": [
    "# # Check flight delay bins\n",
    "# print(pd.cut(df_flights_Dec_2018['dep_delay'], bins=10).value_counts())\n",
    "# print(pd.cut(df_flights_Dec_2019['dep_delay'], bins=10).value_counts())\n",
    "# print(pd.cut(df_flights['dep_delay'], bins=10).value_counts())"
   ]
  },
  {
   "cell_type": "code",
   "execution_count": 5,
   "id": "da18abdd-27bb-4f12-bcdd-274fddb5b74f",
   "metadata": {
    "tags": []
   },
   "outputs": [],
   "source": [
    "# Filter out extreme delays which account for less than 1% of flights, for more accurate stats/modelling\n",
    "df_flights_Dec_2018 = df_flights_Dec_2018[df_flights_Dec_2018['dep_delay'] < 325.8]\n",
    "df_flights_Dec_2019 = df_flights_Dec_2019[df_flights_Dec_2019['dep_delay'] < 305.8]\n",
    "df_flights = df_flights[df_flights['dep_delay'] < 300.4]"
   ]
  },
  {
   "cell_type": "code",
   "execution_count": 6,
   "id": "8f51212d-f8a7-4405-9a75-69da76016a02",
   "metadata": {},
   "outputs": [
    {
     "data": {
      "text/html": [
       "<div>\n",
       "<style scoped>\n",
       "    .dataframe tbody tr th:only-of-type {\n",
       "        vertical-align: middle;\n",
       "    }\n",
       "\n",
       "    .dataframe tbody tr th {\n",
       "        vertical-align: top;\n",
       "    }\n",
       "\n",
       "    .dataframe thead th {\n",
       "        text-align: right;\n",
       "    }\n",
       "</style>\n",
       "<table border=\"1\" class=\"dataframe\">\n",
       "  <thead>\n",
       "    <tr style=\"text-align: right;\">\n",
       "      <th></th>\n",
       "      <th>fl_date</th>\n",
       "      <th>mkt_unique_carrier</th>\n",
       "      <th>branded_code_share</th>\n",
       "      <th>mkt_carrier</th>\n",
       "      <th>mkt_carrier_fl_num</th>\n",
       "      <th>op_unique_carrier</th>\n",
       "      <th>tail_num</th>\n",
       "      <th>op_carrier_fl_num</th>\n",
       "      <th>origin_airport_id</th>\n",
       "      <th>origin</th>\n",
       "      <th>origin_city_name</th>\n",
       "      <th>dest_airport_id</th>\n",
       "      <th>dest</th>\n",
       "      <th>dest_city_name</th>\n",
       "      <th>crs_dep_time</th>\n",
       "      <th>dep_time</th>\n",
       "      <th>dep_delay</th>\n",
       "      <th>taxi_out</th>\n",
       "      <th>wheels_off</th>\n",
       "      <th>wheels_on</th>\n",
       "      <th>taxi_in</th>\n",
       "      <th>crs_arr_time</th>\n",
       "      <th>arr_time</th>\n",
       "      <th>arr_delay</th>\n",
       "      <th>cancelled</th>\n",
       "      <th>cancellation_code</th>\n",
       "      <th>diverted</th>\n",
       "      <th>dup</th>\n",
       "      <th>crs_elapsed_time</th>\n",
       "      <th>actual_elapsed_time</th>\n",
       "      <th>air_time</th>\n",
       "      <th>flights</th>\n",
       "      <th>distance</th>\n",
       "      <th>carrier_delay</th>\n",
       "      <th>weather_delay</th>\n",
       "      <th>nas_delay</th>\n",
       "      <th>security_delay</th>\n",
       "      <th>late_aircraft_delay</th>\n",
       "      <th>first_dep_time</th>\n",
       "      <th>total_add_gtime</th>\n",
       "      <th>longest_add_gtime</th>\n",
       "      <th>no_name</th>\n",
       "    </tr>\n",
       "  </thead>\n",
       "  <tbody>\n",
       "    <tr>\n",
       "      <th>0</th>\n",
       "      <td>2018-12-31</td>\n",
       "      <td>F9</td>\n",
       "      <td>F9</td>\n",
       "      <td>F9</td>\n",
       "      <td>1753</td>\n",
       "      <td>F9</td>\n",
       "      <td>N211FR</td>\n",
       "      <td>1753</td>\n",
       "      <td>13204</td>\n",
       "      <td>MCO</td>\n",
       "      <td>Orlando, FL</td>\n",
       "      <td>11109</td>\n",
       "      <td>COS</td>\n",
       "      <td>Colorado Springs, CO</td>\n",
       "      <td>2115</td>\n",
       "      <td>2105.0</td>\n",
       "      <td>-10.0</td>\n",
       "      <td>15.0</td>\n",
       "      <td>2120.0</td>\n",
       "      <td>2331.0</td>\n",
       "      <td>33.0</td>\n",
       "      <td>2321</td>\n",
       "      <td>4.0</td>\n",
       "      <td>43.0</td>\n",
       "      <td>0.0</td>\n",
       "      <td>NaN</td>\n",
       "      <td>0.0</td>\n",
       "      <td>N</td>\n",
       "      <td>246.0</td>\n",
       "      <td>299.0</td>\n",
       "      <td>251.0</td>\n",
       "      <td>1.0</td>\n",
       "      <td>1520.0</td>\n",
       "      <td>0.0</td>\n",
       "      <td>0.0</td>\n",
       "      <td>43.0</td>\n",
       "      <td>0.0</td>\n",
       "      <td>0.0</td>\n",
       "      <td>NaN</td>\n",
       "      <td>NaN</td>\n",
       "      <td>NaN</td>\n",
       "      <td>NaN</td>\n",
       "    </tr>\n",
       "  </tbody>\n",
       "</table>\n",
       "</div>"
      ],
      "text/plain": [
       "      fl_date mkt_unique_carrier branded_code_share mkt_carrier  \\\n",
       "0  2018-12-31                 F9                 F9          F9   \n",
       "\n",
       "   mkt_carrier_fl_num op_unique_carrier tail_num  op_carrier_fl_num  \\\n",
       "0                1753                F9   N211FR               1753   \n",
       "\n",
       "   origin_airport_id origin origin_city_name  dest_airport_id dest  \\\n",
       "0              13204    MCO      Orlando, FL            11109  COS   \n",
       "\n",
       "         dest_city_name  crs_dep_time  dep_time  dep_delay  taxi_out  \\\n",
       "0  Colorado Springs, CO          2115    2105.0      -10.0      15.0   \n",
       "\n",
       "   wheels_off  wheels_on  taxi_in  crs_arr_time  arr_time  arr_delay  \\\n",
       "0      2120.0     2331.0     33.0          2321       4.0       43.0   \n",
       "\n",
       "   cancelled cancellation_code  diverted dup  crs_elapsed_time  \\\n",
       "0        0.0               NaN       0.0   N             246.0   \n",
       "\n",
       "   actual_elapsed_time  air_time  flights  distance  carrier_delay  \\\n",
       "0                299.0     251.0      1.0    1520.0            0.0   \n",
       "\n",
       "   weather_delay  nas_delay  security_delay  late_aircraft_delay  \\\n",
       "0            0.0       43.0             0.0                  0.0   \n",
       "\n",
       "   first_dep_time  total_add_gtime  longest_add_gtime  no_name  \n",
       "0             NaN              NaN                NaN      NaN  "
      ]
     },
     "execution_count": 6,
     "metadata": {},
     "output_type": "execute_result"
    }
   ],
   "source": [
    "df_flights_Dec_2018.head(1)"
   ]
  },
  {
   "cell_type": "markdown",
   "id": "d35b21a1-fcce-437c-a949-464bcd56e90b",
   "metadata": {},
   "source": [
    "### Flights_test"
   ]
  },
  {
   "cell_type": "code",
   "execution_count": 7,
   "id": "54bed6d1-005b-466c-b7e1-0a4952e80453",
   "metadata": {},
   "outputs": [],
   "source": [
    "# Look through flight data from January 2020\n",
    "df_flights_test = pd.read_csv('flights_test.csv')\n",
    "\n",
    "# Move column names to first row of data\n",
    "df_flights_test = (df_flights_test.T.reset_index().T.reset_index(drop=True))\n",
    "\n",
    "# Define new column names\n",
    "df_flights_test.columns = ['fl_date', 'mkt_unique_carrier', 'branded_code_share', 'mkt_carrier', 'mkt_carrier_fl_num', 'op_unique_carrier', 'tail_num', 'op_carrier_fl_num', 'origin_airport_id', 'origin', 'origin_city_name', 'dest_airport_id', 'dest', 'dest_city_name', 'crs_dep_time', 'crs_arr_time', 'dup', 'crs_elapsed_time', 'flights', 'distance']\n",
    "\n",
    "# Clean up fl_date\n",
    "df_flights_test['fl_date'] = df_flights_test['fl_date'].str[0:10]"
   ]
  },
  {
   "cell_type": "code",
   "execution_count": 8,
   "id": "0724854b-6104-470e-9c6b-a24474ecc1a2",
   "metadata": {},
   "outputs": [
    {
     "data": {
      "text/html": [
       "<div>\n",
       "<style scoped>\n",
       "    .dataframe tbody tr th:only-of-type {\n",
       "        vertical-align: middle;\n",
       "    }\n",
       "\n",
       "    .dataframe tbody tr th {\n",
       "        vertical-align: top;\n",
       "    }\n",
       "\n",
       "    .dataframe thead th {\n",
       "        text-align: right;\n",
       "    }\n",
       "</style>\n",
       "<table border=\"1\" class=\"dataframe\">\n",
       "  <thead>\n",
       "    <tr style=\"text-align: right;\">\n",
       "      <th></th>\n",
       "      <th>fl_date</th>\n",
       "      <th>mkt_unique_carrier</th>\n",
       "      <th>branded_code_share</th>\n",
       "      <th>mkt_carrier</th>\n",
       "      <th>mkt_carrier_fl_num</th>\n",
       "      <th>op_unique_carrier</th>\n",
       "      <th>tail_num</th>\n",
       "      <th>op_carrier_fl_num</th>\n",
       "      <th>origin_airport_id</th>\n",
       "      <th>origin</th>\n",
       "      <th>origin_city_name</th>\n",
       "      <th>dest_airport_id</th>\n",
       "      <th>dest</th>\n",
       "      <th>dest_city_name</th>\n",
       "      <th>crs_dep_time</th>\n",
       "      <th>crs_arr_time</th>\n",
       "      <th>dup</th>\n",
       "      <th>crs_elapsed_time</th>\n",
       "      <th>flights</th>\n",
       "      <th>distance</th>\n",
       "    </tr>\n",
       "  </thead>\n",
       "  <tbody>\n",
       "    <tr>\n",
       "      <th>0</th>\n",
       "      <td>2020-01-01</td>\n",
       "      <td>WN</td>\n",
       "      <td>WN.1</td>\n",
       "      <td>WN.2</td>\n",
       "      <td>5888</td>\n",
       "      <td>WN.3</td>\n",
       "      <td>N951WN</td>\n",
       "      <td>5888.1</td>\n",
       "      <td>13891</td>\n",
       "      <td>ONT</td>\n",
       "      <td>Ontario, CA</td>\n",
       "      <td>14771</td>\n",
       "      <td>SFO</td>\n",
       "      <td>San Francisco, CA</td>\n",
       "      <td>1810</td>\n",
       "      <td>1945</td>\n",
       "      <td>N</td>\n",
       "      <td>95</td>\n",
       "      <td>1</td>\n",
       "      <td>363</td>\n",
       "    </tr>\n",
       "  </tbody>\n",
       "</table>\n",
       "</div>"
      ],
      "text/plain": [
       "      fl_date mkt_unique_carrier branded_code_share mkt_carrier  \\\n",
       "0  2020-01-01                 WN               WN.1        WN.2   \n",
       "\n",
       "  mkt_carrier_fl_num op_unique_carrier tail_num op_carrier_fl_num  \\\n",
       "0               5888              WN.3   N951WN            5888.1   \n",
       "\n",
       "  origin_airport_id origin origin_city_name dest_airport_id dest  \\\n",
       "0             13891    ONT      Ontario, CA           14771  SFO   \n",
       "\n",
       "      dest_city_name crs_dep_time crs_arr_time dup crs_elapsed_time flights  \\\n",
       "0  San Francisco, CA         1810         1945   N               95       1   \n",
       "\n",
       "  distance  \n",
       "0      363  "
      ]
     },
     "execution_count": 8,
     "metadata": {},
     "output_type": "execute_result"
    }
   ],
   "source": [
    "df_flights_test.head(1)"
   ]
  },
  {
   "cell_type": "markdown",
   "id": "bc57980f-4172-4c35-895b-722cba182118",
   "metadata": {},
   "source": [
    "# Feature Engineering"
   ]
  },
  {
   "cell_type": "code",
   "execution_count": 11,
   "id": "8de7f6b5-d188-46e3-80fb-e1c7d36d3811",
   "metadata": {},
   "outputs": [],
   "source": [
    "# Get hour of departure and arrival times (approximate using crs for 2020)\n",
    "df_flights_Dec_2018['hour_of_day_dep'] = df_flights_Dec_2018['dep_time'] // 100\n",
    "df_flights_Dec_2018['hour_of_day_arr'] = df_flights_Dec_2018['arr_time'] // 100\n",
    "df_flights_Dec_2019['hour_of_day_dep'] = df_flights_Dec_2019['dep_time'] // 100\n",
    "df_flights_Dec_2019['hour_of_day_arr'] = df_flights_Dec_2019['arr_time'] // 100\n",
    "df_flights['hour_of_day_dep'] = df_flights['dep_time'] // 100\n",
    "df_flights['hour_of_day_arr'] = df_flights['arr_time'] // 100\n",
    "df_flights_test['hour_of_day_dep'] = df_flights_test['crs_dep_time'].astype(int) // 100\n",
    "df_flights_test['hour_of_day_arr'] = df_flights_test['crs_arr_time'].astype(int) // 100\n",
    "\n",
    "# Set delay nulls to zero (zero minutes of delay instead of null)\n",
    "df_flights_Dec_2018[['arr_delay', 'carrier_delay', 'weather_delay', 'nas_delay', 'security_delay', 'late_aircraft_delay']] = df_flights_Dec_2018[['arr_delay', 'carrier_delay', 'weather_delay', 'nas_delay', 'security_delay', 'late_aircraft_delay']].fillna(value=0)\n",
    "df_flights_Dec_2019[['arr_delay', 'carrier_delay', 'weather_delay', 'nas_delay', 'security_delay', 'late_aircraft_delay']] = df_flights_Dec_2019[['arr_delay', 'carrier_delay', 'weather_delay', 'nas_delay', 'security_delay', 'late_aircraft_delay']].fillna(value=0)\n",
    "df_flights[['arr_delay', 'carrier_delay', 'weather_delay', 'nas_delay', 'security_delay', 'late_aircraft_delay']] = df_flights[['arr_delay', 'carrier_delay', 'weather_delay', 'nas_delay', 'security_delay', 'late_aircraft_delay']].fillna(value=0)\n",
    "\n",
    "# Exclude diverted and cancelled flights\n",
    "df_flights_Dec_2018 = df_flights_Dec_2018[df_flights_Dec_2018['diverted'] != 1]\n",
    "df_flights_Dec_2018 = df_flights_Dec_2018[df_flights_Dec_2018['cancelled'] != 1]\n",
    "df_flights_Dec_2019 = df_flights_Dec_2019[df_flights_Dec_2019['diverted'] != 1]\n",
    "df_flights_Dec_2019 = df_flights_Dec_2019[df_flights_Dec_2019['cancelled'] != 1]\n",
    "df_flights = df_flights[df_flights['diverted'] != 1]\n",
    "df_flights = df_flights[df_flights['cancelled'] != 1]\n",
    "\n",
    "# Format fl_date column as a date\n",
    "df_flights_Dec_2018['fl_date'] = pd.to_datetime(df_flights_Dec_2018['fl_date'])\n",
    "df_flights_Dec_2019['fl_date'] = pd.to_datetime(df_flights_Dec_2019['fl_date'])\n",
    "df_flights['fl_date'] = pd.to_datetime(df_flights['fl_date'])\n",
    "df_flights_test['fl_date'] = pd.to_datetime(df_flights_test['fl_date'])\n",
    "\n",
    "# Create 'state' column\n",
    "df_flights_Dec_2018['state'] = df_flights_Dec_2018['origin_city_name'].str[-2:]\n",
    "df_flights_Dec_2019['state'] = df_flights_Dec_2019['origin_city_name'].str[-2:]\n",
    "df_flights['state'] = df_flights['origin_city_name'].str[-2:]\n",
    "df_flights_test['state'] = df_flights_test['origin_city_name'].str[-2:]\n",
    "\n",
    "# Create fl_day column\n",
    "df_flights_Dec_2018['fl_day'] = pd.DatetimeIndex(df_flights_Dec_2018['fl_date']).day\n",
    "df_flights_Dec_2019['fl_day'] = pd.DatetimeIndex(df_flights_Dec_2019['fl_date']).day\n",
    "df_flights['fl_day'] = pd.DatetimeIndex(df_flights['fl_date']).day\n",
    "df_flights_test['fl_day'] = pd.DatetimeIndex(df_flights_test['fl_date']).day\n",
    "\n",
    "# NOTE: statistics will be gathered from Dec 2018/2019, and applied to Jan 2019/2020 respectively to simulate \"1 week in advance\" predictions.\n",
    "# Get and apply daily mean flight delay values\n",
    "df_daily_delay_means_Dec_2018 = df_flights_Dec_2018.groupby('fl_day').mean()[['arr_delay', 'carrier_delay', 'weather_delay', 'nas_delay', 'security_delay', 'late_aircraft_delay']].reset_index()\n",
    "df_flights['daily_arr_delay_mean'] = df_flights.apply(lambda row: df_daily_delay_means_Dec_2018['arr_delay'][row['fl_day']-1], axis=1)\n",
    "df_flights['daily_carrier_delay_mean'] = df_flights.apply(lambda row: df_daily_delay_means_Dec_2018['carrier_delay'][row['fl_day']-1], axis=1)\n",
    "df_flights['daily_weather_delay_mean'] = df_flights.apply(lambda row: df_daily_delay_means_Dec_2018['weather_delay'][row['fl_day']-1], axis=1)\n",
    "df_flights['daily_nas_delay_mean'] = df_flights.apply(lambda row: df_daily_delay_means_Dec_2018['nas_delay'][row['fl_day']-1], axis=1)\n",
    "df_flights['daily_security_delay_mean'] = df_flights.apply(lambda row: df_daily_delay_means_Dec_2018['security_delay'][row['fl_day']-1], axis=1)\n",
    "df_flights['daily_late_aircraft_delay_mean'] = df_flights.apply(lambda row: df_daily_delay_means_Dec_2018['late_aircraft_delay'][row['fl_day']-1], axis=1)\n",
    "\n",
    "df_daily_delay_means_Dec_2019 = df_flights_Dec_2019.groupby('fl_day').mean()[['arr_delay', 'carrier_delay', 'weather_delay', 'nas_delay', 'security_delay', 'late_aircraft_delay']].reset_index()\n",
    "df_flights_test['daily_arr_delay_mean'] = df_flights_test.apply(lambda row: df_daily_delay_means_Dec_2019['arr_delay'][row['fl_day']-1], axis=1)\n",
    "df_flights_test['daily_carrier_delay_mean'] = df_flights_test.apply(lambda row: df_daily_delay_means_Dec_2019['carrier_delay'][row['fl_day']-1], axis=1)\n",
    "df_flights_test['daily_weather_delay_mean'] = df_flights_test.apply(lambda row: df_daily_delay_means_Dec_2019['weather_delay'][row['fl_day']-1], axis=1)\n",
    "df_flights_test['daily_nas_delay_mean'] = df_flights_test.apply(lambda row: df_daily_delay_means_Dec_2019['nas_delay'][row['fl_day']-1], axis=1)\n",
    "df_flights_test['daily_security_delay_mean'] = df_flights_test.apply(lambda row: df_daily_delay_means_Dec_2019['security_delay'][row['fl_day']-1], axis=1)\n",
    "df_flights_test['daily_late_aircraft_delay_mean'] = df_flights_test.apply(lambda row: df_daily_delay_means_Dec_2019['late_aircraft_delay'][row['fl_day']-1], axis=1)\n",
    "\n",
    "# Get and apply daily standard deviation of flight delay values\n",
    "df_daily_delay_std_Dec_2018 = df_flights_Dec_2018.groupby('fl_day').std()[['arr_delay', 'carrier_delay', 'weather_delay', 'nas_delay', 'security_delay', 'late_aircraft_delay']].reset_index()\n",
    "df_flights['daily_arr_delay_std'] = df_flights.apply(lambda row: df_daily_delay_std_Dec_2018['arr_delay'][row['fl_day']-1], axis=1)\n",
    "df_flights['daily_carrier_delay_std'] = df_flights.apply(lambda row: df_daily_delay_std_Dec_2018['carrier_delay'][row['fl_day']-1], axis=1)\n",
    "df_flights['daily_weather_delay_std'] = df_flights.apply(lambda row: df_daily_delay_std_Dec_2018['weather_delay'][row['fl_day']-1], axis=1)\n",
    "df_flights['daily_nas_delay_std'] = df_flights.apply(lambda row: df_daily_delay_std_Dec_2018['nas_delay'][row['fl_day']-1], axis=1)\n",
    "df_flights['daily_security_delay_std'] = df_flights.apply(lambda row: df_daily_delay_std_Dec_2018['security_delay'][row['fl_day']-1], axis=1)\n",
    "df_flights['daily_late_aircraft_delay_std'] = df_flights.apply(lambda row: df_daily_delay_std_Dec_2018['late_aircraft_delay'][row['fl_day']-1], axis=1)\n",
    "\n",
    "df_daily_delay_std_Dec_2019 = df_flights_Dec_2019.groupby('fl_day').std()[['arr_delay', 'carrier_delay', 'weather_delay', 'nas_delay', 'security_delay', 'late_aircraft_delay']].reset_index()\n",
    "df_flights_test['daily_arr_delay_std'] = df_flights_test.apply(lambda row: df_daily_delay_std_Dec_2019['arr_delay'][row['fl_day']-1], axis=1)\n",
    "df_flights_test['daily_carrier_delay_std'] = df_flights_test.apply(lambda row: df_daily_delay_std_Dec_2019['carrier_delay'][row['fl_day']-1], axis=1)\n",
    "df_flights_test['daily_weather_delay_std'] = df_flights_test.apply(lambda row: df_daily_delay_std_Dec_2019['weather_delay'][row['fl_day']-1], axis=1)\n",
    "df_flights_test['daily_nas_delay_std'] = df_flights_test.apply(lambda row: df_daily_delay_std_Dec_2019['nas_delay'][row['fl_day']-1], axis=1)\n",
    "df_flights_test['daily_security_delay_std'] = df_flights_test.apply(lambda row: df_daily_delay_std_Dec_2019['security_delay'][row['fl_day']-1], axis=1)\n",
    "df_flights_test['daily_late_aircraft_delay_std'] = df_flights_test.apply(lambda row: df_daily_delay_std_Dec_2019['late_aircraft_delay'][row['fl_day']-1], axis=1)"
   ]
  },
  {
   "cell_type": "code",
   "execution_count": 12,
   "id": "facb63e1-5294-4c38-a8b5-12d7231d0e37",
   "metadata": {},
   "outputs": [],
   "source": [
    "# Get and apply hourly mean flight delay values\n",
    "dep_hourly_delay_mean_Dec_2018 = df_flights_Dec_2018.groupby('hour_of_day_dep').mean()['dep_delay']\n",
    "arr_hourly_delay_mean_Dec_2018 = df_flights_Dec_2018.groupby('hour_of_day_arr').mean()['arr_delay']\n",
    "dep_hourly_delay_mean_Dec_2019 = df_flights_Dec_2019.groupby('hour_of_day_dep').mean()['dep_delay']\n",
    "arr_hourly_delay_mean_Dec_2019 = df_flights_Dec_2019.groupby('hour_of_day_arr').mean()['arr_delay']\n",
    "\n",
    "df_flights['dep_mean_hourly_delay'] = df_flights.apply(lambda row: dep_hourly_delay_mean_Dec_2018[row['hour_of_day_dep']], axis=1)\n",
    "df_flights['arr_mean_hourly_delay'] = df_flights.apply(lambda row: arr_hourly_delay_mean_Dec_2018[row['hour_of_day_arr']], axis=1)\n",
    "df_flights_test['dep_mean_hourly_delay'] = df_flights_test.apply(lambda row: dep_hourly_delay_mean_Dec_2019[row['hour_of_day_dep']], axis=1)\n",
    "df_flights_test['arr_mean_hourly_delay'] = df_flights_test.apply(lambda row: arr_hourly_delay_mean_Dec_2019[row['hour_of_day_arr']], axis=1)\n",
    "\n",
    "\n",
    "# Get and apply hourly standard deviation of flight delay values\n",
    "dep_hourly_delay_std_Dec_2018 = df_flights_Dec_2018.groupby('hour_of_day_dep').std()['dep_delay']\n",
    "arr_hourly_delay_std_Dec_2018 = df_flights_Dec_2018.groupby('hour_of_day_arr').std()['arr_delay']\n",
    "dep_hourly_delay_std_Dec_2019 = df_flights_Dec_2019.groupby('hour_of_day_dep').std()['dep_delay']\n",
    "arr_hourly_delay_std_Dec_2019 = df_flights_Dec_2019.groupby('hour_of_day_arr').std()['arr_delay']\n",
    "\n",
    "df_flights['dep_std_hourly_delay'] = df_flights.apply(lambda row: dep_hourly_delay_std_Dec_2018[row['hour_of_day_dep']], axis=1)\n",
    "df_flights['arr_std_hourly_delay'] = df_flights.apply(lambda row: arr_hourly_delay_std_Dec_2018[row['hour_of_day_arr']], axis=1)\n",
    "df_flights_test['dep_std_hourly_delay'] = df_flights_test.apply(lambda row: dep_hourly_delay_std_Dec_2019[row['hour_of_day_dep']], axis=1)\n",
    "df_flights_test['arr_std_hourly_delay'] = df_flights_test.apply(lambda row: arr_hourly_delay_std_Dec_2019[row['hour_of_day_arr']], axis=1)"
   ]
  },
  {
   "cell_type": "code",
   "execution_count": 13,
   "id": "ba28dd20-ced1-4503-ae6d-b82327c104a3",
   "metadata": {},
   "outputs": [],
   "source": [
    "# Calculate and apply mean marketing (mkt) and operating (op) carrier delays\n",
    "df_mean_mkt_carrier_delays_Dec_2018 = df_flights_Dec_2018.groupby('mkt_unique_carrier').mean()['carrier_delay']\n",
    "df_mean_op_carrier_delays_Dec_2018 = df_flights_Dec_2018.groupby('op_unique_carrier').mean()['carrier_delay']\n",
    "df_mean_mkt_carrier_delays_Dec_2019 = df_flights_Dec_2019.groupby('mkt_unique_carrier').mean()['carrier_delay']\n",
    "df_mean_op_carrier_delays_Dec_2019 = df_flights_Dec_2019.groupby('op_unique_carrier').mean()['carrier_delay']\n",
    "\n",
    "df_flights['mean_mkt_carrier_delay'] = df_flights.apply(lambda row: df_mean_mkt_carrier_delays_Dec_2018[row['mkt_unique_carrier']], axis=1)\n",
    "df_flights['mean_op_carrier_delay'] = df_flights.apply(lambda row: df_mean_op_carrier_delays_Dec_2018[row['op_unique_carrier']], axis=1)\n",
    "df_flights_test['mean_mkt_carrier_delay'] = df_flights_test.apply(lambda row: df_mean_mkt_carrier_delays_Dec_2019[row['mkt_unique_carrier']], axis=1)\n",
    "df_flights_test['mean_op_carrier_delay'] = df_flights_test.apply(lambda row: df_mean_op_carrier_delays_Dec_2019[row['op_unique_carrier']] if row['op_unique_carrier'] in df_mean_op_carrier_delays_Dec_2019.index else df_mean_op_carrier_delays_Dec_2019.mean(), axis=1)\n",
    "\n",
    "\n",
    "# Calculate and apply standard deviation of marketing (mkt) and operating (op) carrier delays\n",
    "df_std_mkt_carrier_delays_Dec_2018 = df_flights_Dec_2018.groupby('mkt_unique_carrier').std()['carrier_delay']\n",
    "df_std_op_carrier_delays_Dec_2018 = df_flights_Dec_2018.groupby('op_unique_carrier').std()['carrier_delay']\n",
    "df_std_mkt_carrier_delays_Dec_2019 = df_flights_Dec_2019.groupby('mkt_unique_carrier').std()['carrier_delay']\n",
    "df_std_op_carrier_delays_Dec_2019 = df_flights_Dec_2019.groupby('op_unique_carrier').std()['carrier_delay']\n",
    "\n",
    "df_flights['std_mkt_carrier_delay'] = df_flights.apply(lambda row: df_std_mkt_carrier_delays_Dec_2018[row['mkt_unique_carrier']], axis=1)\n",
    "df_flights['std_op_carrier_delay'] = df_flights.apply(lambda row: df_std_op_carrier_delays_Dec_2018[row['op_unique_carrier']], axis=1)\n",
    "df_flights_test['std_mkt_carrier_delay'] = df_flights_test.apply(lambda row: df_std_mkt_carrier_delays_Dec_2019[row['mkt_unique_carrier']], axis=1)\n",
    "df_flights_test['std_op_carrier_delay'] = df_flights_test.apply(lambda row: df_std_op_carrier_delays_Dec_2019[row['op_unique_carrier']] if row['op_unique_carrier'] in df_std_op_carrier_delays_Dec_2019.index else df_std_op_carrier_delays_Dec_2019.mean(), axis=1)"
   ]
  },
  {
   "cell_type": "code",
   "execution_count": 14,
   "id": "26a4f1c4-885e-4286-9a43-18c82479c672",
   "metadata": {
    "tags": []
   },
   "outputs": [],
   "source": [
    "# Add relationship between tail number and delay time\n",
    "tail_num_delay_means_Dec_2018 = df_flights_Dec_2018.groupby('tail_num').mean()['arr_delay']\n",
    "tail_num_delay_std_Dec_2018 = df_flights_Dec_2018.groupby('tail_num').std()['arr_delay']\n",
    "tail_num_delay_means_Dec_2019 = df_flights_Dec_2019.groupby('tail_num').mean()['arr_delay']\n",
    "tail_num_delay_std_Dec_2019 = df_flights_Dec_2019.groupby('tail_num').std()['arr_delay']\n",
    "\n",
    "df_flights['mean_tail_num_arr_delay'] = df_flights.apply(lambda row: tail_num_delay_means_Dec_2018[row['tail_num']] if row['tail_num'] in tail_num_delay_means_Dec_2018.index else tail_num_delay_means_Dec_2018.mean(), axis=1)\n",
    "df_flights['std_tail_num_arr_delay'] = df_flights.apply(lambda row: tail_num_delay_std_Dec_2018[row['tail_num']] if row['tail_num'] in tail_num_delay_std_Dec_2018.index else tail_num_delay_std_Dec_2018.mean(), axis=1)\n",
    "df_flights['std_tail_num_arr_delay'].fillna(value=tail_num_delay_std_Dec_2018.mean(),inplace=True)  # Fix null values\n",
    "\n",
    "df_flights_test['mean_tail_num_arr_delay'] = df_flights_test.apply(lambda row: tail_num_delay_means_Dec_2019[row['tail_num']] if row['tail_num'] in tail_num_delay_means_Dec_2019.index else tail_num_delay_means_Dec_2019.mean(), axis=1)\n",
    "df_flights_test['std_tail_num_arr_delay'] = df_flights_test.apply(lambda row: tail_num_delay_std_Dec_2019[row['tail_num']] if row['tail_num'] in tail_num_delay_std_Dec_2019.index else tail_num_delay_std_Dec_2019.mean(), axis=1)\n",
    "df_flights_test['std_tail_num_arr_delay'].fillna(value=tail_num_delay_std_Dec_2019.mean(),inplace=True)  # Fix null values"
   ]
  },
  {
   "cell_type": "code",
   "execution_count": 26,
   "id": "17b16210-e485-48ea-9b32-c8651e720f5e",
   "metadata": {},
   "outputs": [],
   "source": [
    "df_flights;"
   ]
  },
  {
   "cell_type": "code",
   "execution_count": null,
   "id": "becd003d-c64b-42ff-bdba-b136ffbf6027",
   "metadata": {},
   "outputs": [],
   "source": [
    "# One hot encoding?"
   ]
  },
  {
   "cell_type": "markdown",
   "id": "f02e3137-573e-4524-9f1e-ffea94391d12",
   "metadata": {},
   "source": [
    "# Dropping Columns, Construct Final DFs"
   ]
  },
  {
   "cell_type": "code",
   "execution_count": 15,
   "id": "6fe5a096-8a8b-4a70-b3c3-a5401759e199",
   "metadata": {},
   "outputs": [],
   "source": [
    "# Drop inappropriate columns (this should be the final step, after other feature engineering is complete).\n",
    "# Except for the arr_delay column, df_flights_final should have the same columns as df_flights_test in order to use both as training/testing X values.\n",
    "\n",
    "df_flights_final = df_flights.drop(columns=['carrier_delay', 'weather_delay', 'nas_delay', 'security_delay', 'late_aircraft_delay', 'no_name', 'dep_time', 'dep_delay', 'taxi_out', 'wheels_off', 'wheels_on', 'taxi_in', \n",
    "                                      'arr_time', 'cancelled', 'cancellation_code', 'diverted', 'actual_elapsed_time', 'air_time', 'first_dep_time', 'total_add_gtime', 'longest_add_gtime',\n",
    "                                           'branded_code_share', 'mkt_carrier', 'mkt_carrier_fl_num', 'op_carrier_fl_num', 'origin_city_name', 'dest_city_name', 'dup', 'flights'])\n",
    "\n",
    "# Orignal columns of df_flights_test:\n",
    "# ['fl_date', 'mkt_unique_carrier', 'branded_code_share', 'mkt_carrier', 'mkt_carrier_fl_num', 'op_unique_carrier', 'tail_num', 'op_carrier_fl_num', 'origin_airport_id', 'origin', 'origin_city_name', 'dest_airport_id', 'dest', 'dest_city_name', 'crs_dep_time', 'crs_arr_time', 'dup', 'crs_elapsed_time', 'flights', 'distance']\n",
    "\n",
    "df_flights_test_final = df_flights_test.drop(columns=['branded_code_share', 'mkt_carrier', 'mkt_carrier_fl_num', 'op_carrier_fl_num', 'origin_city_name', 'dest_city_name', 'dup', 'flights'])\n",
    "df_flights_test_final = df_flights_test_final.dropna()   # Drop rows with missing tail numbers (235 rows, or 0.14%)"
   ]
  },
  {
   "cell_type": "code",
   "execution_count": 45,
   "id": "e34c382b-4b46-4706-8b76-898261d1e9a2",
   "metadata": {},
   "outputs": [],
   "source": [
    "df_flights_final;"
   ]
  },
  {
   "cell_type": "code",
   "execution_count": 46,
   "id": "be52bad5-bcd7-43d8-b538-9875c8f16643",
   "metadata": {},
   "outputs": [],
   "source": [
    "df_flights_test_final;"
   ]
  },
  {
   "cell_type": "code",
   "execution_count": 16,
   "id": "43b9e95d-2ba0-4bb7-983b-aa8e7863cbdd",
   "metadata": {
    "tags": []
   },
   "outputs": [],
   "source": [
    "# Export DFs to csv\n",
    "df_flights_final.to_csv('df_flights_final.csv')\n",
    "df_flights_test_final.to_csv('df_flights_test_final.csv')"
   ]
  },
  {
   "cell_type": "markdown",
   "id": "20e7fdaf-5dfc-4d08-8ed0-1b2d9258bd66",
   "metadata": {},
   "source": [
    "# Hypothesis"
   ]
  },
  {
   "cell_type": "markdown",
   "id": "a9b01ece-dde8-462c-b675-89685b7a0b37",
   "metadata": {},
   "source": [
    "I think these will be the most important feature(s):\n",
    "* mkt and op carrier delay stats (mean/std)\n",
    "* daily and hourly delay stats\n",
    "* weather delay stats\n",
    "\n",
    "I think these will be the least important feature(s):\n",
    "* tail number stats"
   ]
  }
 ],
 "metadata": {
  "kernelspec": {
   "display_name": "Python 3",
   "language": "python",
   "name": "python3"
  },
  "language_info": {
   "codemirror_mode": {
    "name": "ipython",
    "version": 3
   },
   "file_extension": ".py",
   "mimetype": "text/x-python",
   "name": "python",
   "nbconvert_exporter": "python",
   "pygments_lexer": "ipython3",
   "version": "3.7.11"
  }
 },
 "nbformat": 4,
 "nbformat_minor": 5
}
