{
 "cells": [
  {
   "cell_type": "markdown",
   "metadata": {},
   "source": [
    "## Exploratory Data Analysis\n",
    "\n",
    "Use this notebook to get familiar with the datasets we have. There is 10 questions we need to answer during the EDA.\n",
    "\n",
    "\n",
    "We shouldn't limit our EDA to these 10 questions. Let's be creative :)."
   ]
  },
  {
   "cell_type": "code",
   "execution_count": 1,
   "metadata": {},
   "outputs": [],
   "source": [
    "import pandas as pd\n",
    "import numpy as np\n",
    "import matplotlib.pyplot as plt\n",
    "import seaborn as sns"
   ]
  },
  {
   "cell_type": "code",
   "execution_count": null,
   "metadata": {},
   "outputs": [],
   "source": []
  },
  {
   "cell_type": "code",
   "execution_count": null,
   "metadata": {},
   "outputs": [],
   "source": []
  },
  {
   "cell_type": "markdown",
   "metadata": {},
   "source": [
    "#### **Task 1**: Test the hypothesis that the delay is from Normal distribution. and that **mean** of the delay is 0. Be careful about the outliers."
   ]
  },
  {
   "cell_type": "code",
   "execution_count": null,
   "metadata": {},
   "outputs": [],
   "source": []
  },
  {
   "cell_type": "code",
   "execution_count": null,
   "metadata": {},
   "outputs": [],
   "source": []
  },
  {
   "cell_type": "markdown",
   "metadata": {},
   "source": [
    "#### **Task 2**: Is average/median monthly delay different during the year? If yes, which are months with the biggest delays and what could be the reason?"
   ]
  },
  {
   "cell_type": "code",
   "execution_count": null,
   "metadata": {},
   "outputs": [],
   "source": []
  },
  {
   "cell_type": "code",
   "execution_count": null,
   "metadata": {},
   "outputs": [],
   "source": []
  },
  {
   "cell_type": "markdown",
   "metadata": {},
   "source": [
    "#### **Task 3**: Does the weather affect the delay? \n",
    "Use the API to pull the weather information for flights. There is no need to get weather for ALL flights. We can choose the right representative sample. Let's focus on four weather types:\n",
    "- sunny\n",
    "- cloudy\n",
    "- rainy\n",
    "- snow.\n",
    "Test the hypothesis that these 4 delays are from the same distribution. If they are not, which ones are significantly different?"
   ]
  },
  {
   "cell_type": "code",
   "execution_count": null,
   "metadata": {},
   "outputs": [],
   "source": []
  },
  {
   "cell_type": "code",
   "execution_count": null,
   "metadata": {},
   "outputs": [],
   "source": []
  },
  {
   "cell_type": "markdown",
   "metadata": {},
   "source": [
    "#### **Task 4**: How taxi times changing during the day? Does higher traffic lead to bigger taxi times?"
   ]
  },
  {
   "cell_type": "code",
   "execution_count": null,
   "metadata": {},
   "outputs": [],
   "source": []
  },
  {
   "cell_type": "code",
   "execution_count": null,
   "metadata": {},
   "outputs": [],
   "source": []
  },
  {
   "cell_type": "markdown",
   "metadata": {},
   "source": [
    "#### **Task 5**: What is the average percentage of delays that is already created before departure? (aka are arrival delays caused by departure delays?) Are airlines able to lower the delay during the flights?"
   ]
  },
  {
   "cell_type": "code",
   "execution_count": null,
   "metadata": {},
   "outputs": [],
   "source": []
  },
  {
   "cell_type": "code",
   "execution_count": null,
   "metadata": {},
   "outputs": [],
   "source": []
  },
  {
   "cell_type": "markdown",
   "metadata": {},
   "source": [
    "#### **Task 6**: How many states cover 50% of US air traffic? "
   ]
  },
  {
   "cell_type": "code",
   "execution_count": 52,
   "metadata": {},
   "outputs": [],
   "source": [
    "flights_6 = pd.read_csv('flights_data.csv', low_memory=False)"
   ]
  },
  {
   "cell_type": "code",
   "execution_count": 53,
   "metadata": {},
   "outputs": [],
   "source": [
    "#pulling out states names \n",
    "flights_6[['origin_city_name','state']] = flights_6[\"origin_city_name\"].str.split(',',expand=True)"
   ]
  },
  {
   "cell_type": "code",
   "execution_count": 55,
   "metadata": {},
   "outputs": [],
   "source": [
    "#creating df with 2 columns\n",
    "flights_data_2 = flights_6[['origin_city_name','state']]\n",
    "flights_data_2 = flights_data_2[['state']].groupby('state').agg(state_count = ('state', 'size')).reset_index()"
   ]
  },
  {
   "cell_type": "code",
   "execution_count": 56,
   "metadata": {},
   "outputs": [],
   "source": [
    "#new column for percent\n",
    "summ = flights_data_2['state_count'].sum()\n",
    "flights_data_2['percent'] = (flights_data_2['state_count']/summ*100)\n",
    "flights_data_2 = flights_data_2.sort_values('percent', ascending=False)"
   ]
  },
  {
   "cell_type": "code",
   "execution_count": 57,
   "metadata": {},
   "outputs": [],
   "source": [
    "flights_data_2['percent_cumulative'] = flights_data_2['percent'].copy()\n",
    "flights_data_2['percent_cumulative'] = flights_data_2['percent_cumulative'].cumsum()\n",
    "flights_data_2 = flights_data_2[flights_data_2['percent_cumulative'] <= 50.9]"
   ]
  },
  {
   "cell_type": "code",
   "execution_count": 58,
   "metadata": {},
   "outputs": [
    {
     "name": "stdout",
     "output_type": "stream",
     "text": [
      "   state  state_count    percent  percent_cumulative\n",
      "4     CA        37009  11.525765           11.525765\n",
      "44    TX        32802  10.215573           21.741338\n",
      "8     FL        26069   8.118705           29.860043\n",
      "13    IL        20286   6.317697           36.177740\n",
      "9     GA        16184   5.040206           41.217946\n",
      "26    NC        14636   4.558110           45.776056\n",
      "33    NY        14631   4.556553           50.332609\n"
     ]
    }
   ],
   "source": [
    "print(flights_data_2 )"
   ]
  },
  {
   "cell_type": "code",
   "execution_count": 59,
   "metadata": {},
   "outputs": [
    {
     "data": {
      "image/png": "[encoded data removed]",
      "text/plain": [
       "<Figure size 1080x432 with 1 Axes>"
      ]
     },
     "metadata": {
      "needs_background": "light"
     },
     "output_type": "display_data"
    }
   ],
   "source": [
    "x = flights_data_2['state']\n",
    "y = flights_data_2['percent']\n",
    "\n",
    "plt.figure(figsize=(15,6))\n",
    "sns.barplot(x=x, y=y, palette=\"rocket\")\n",
    "plt.title(\"Most popular states\")\n",
    "plt.ylabel(\"Percentage of all flights %\")\n",
    "plt.xlabel(\"States\")\n",
    "plt.show()"
   ]
  },
  {
   "cell_type": "code",
   "execution_count": 60,
   "metadata": {},
   "outputs": [
    {
     "name": "stdout",
     "output_type": "stream",
     "text": [
      "7\n"
     ]
    }
   ],
   "source": [
    "print(len(flights_data_2))"
   ]
  },
  {
   "cell_type": "markdown",
   "metadata": {},
   "source": [
    "7 states cover 50% of most popular US air traffic. These states are California, Texas, Florida, Illinois\n",
    "Georgia, North Carolina and New York."
   ]
  },
  {
   "cell_type": "markdown",
   "metadata": {},
   "source": [
    "#### **Task 7**: Test the hypothesis whether planes fly faster when there is the departure delay? "
   ]
  },
  {
   "cell_type": "markdown",
   "metadata": {},
   "source": [
    "If null hypothesis that planes fly faster when there is the departure delay is true, then departure delay > arrival delay"
   ]
  },
  {
   "cell_type": "code",
   "execution_count": null,
   "metadata": {},
   "outputs": [],
   "source": [
    "flights_7 = pd.read_csv('flights_data.csv', low_memory=False)\n",
    "#excluding diverted and canceled planes\n",
    "flights_7 = flights_7[flights_7['diverted'] != 1]\n",
    "flights_7 = flights_7[flights_7['cancelled'] != 1]"
   ]
  },
  {
   "cell_type": "code",
   "execution_count": null,
   "metadata": {},
   "outputs": [],
   "source": [
    "#dropping early departures\n",
    "flights_7.drop(flights_7[flights_7.dep_delay < 0].index, inplace=True)"
   ]
  },
  {
   "cell_type": "code",
   "execution_count": null,
   "metadata": {},
   "outputs": [],
   "source": [
    "x = [\"Departure delays\", \"Arrival delays\"]\n",
    "y = [flights_7['dep_delay'].sum(),flights_7['arr_delay'].sum()]\n",
    "\n",
    "plt.figure(figsize=(10,6))\n",
    "sns.barplot(x=x, y=y, palette=\"rocket\")\n",
    "plt.title(\"Delays\")\n",
    "plt.show()"
   ]
  },
  {
   "cell_type": "code",
   "execution_count": null,
   "metadata": {
    "tags": []
   },
   "outputs": [],
   "source": [
    "x = flights_7['dep_delay'].sum()/flights_7['arr_delay'].sum()\n",
    "print(x)"
   ]
  },
  {
   "cell_type": "markdown",
   "metadata": {},
   "source": [
    "Planes fly faster when there is the departure delay"
   ]
  },
  {
   "cell_type": "markdown",
   "metadata": {},
   "source": [
    "#### **Task 8**: When (which hour) do most 'LONG', 'SHORT', 'MEDIUM' haul flights take off?"
   ]
  },
  {
   "cell_type": "code",
   "execution_count": 5,
   "metadata": {},
   "outputs": [],
   "source": [
    "flights_data = pd.read_csv('flights_data.csv', low_memory=False)"
   ]
  },
  {
   "cell_type": "code",
   "execution_count": 6,
   "metadata": {},
   "outputs": [],
   "source": [
    "# adding new column 'hour'\n",
    "\n",
    "flights_data.dropna(subset=['dep_time', 'air_time'], inplace=True)\n",
    "flights_data['hour'] = flights_data['dep_time'].floordiv(100).astype(int)"
   ]
  },
  {
   "cell_type": "code",
   "execution_count": 7,
   "metadata": {},
   "outputs": [],
   "source": [
    "# adding new column 'flight_length'\n",
    "# 1 for Short-Haul from 30 minutes to 3 hours\n",
    "# 2 for Medium-Haul 3-6 hours\n",
    "# 3 for Long-Haul over 6 hours\n",
    "flights_data['flight_length'] = flights_data['air_time'].copy()\n",
    "flights_data['flight_length'].mask(flights_data['flight_length'] < 180, 1, inplace=True)\n",
    "flights_data['flight_length'].mask((flights_data['flight_length'] >= 180) & (flights_data['flight_length'] < 360), 2, inplace=True)\n",
    "flights_data['flight_length'].mask(flights_data['flight_length'] >= 360, 3, inplace=True)"
   ]
  },
  {
   "cell_type": "code",
   "execution_count": 8,
   "metadata": {},
   "outputs": [
    {
     "name": "stdout",
     "output_type": "stream",
     "text": [
      "   flight_length  hour\n",
      "0            1.0    17\n",
      "   flight_length  hour\n",
      "0            2.0     8\n",
      "   flight_length  hour\n",
      "0            3.0    11\n"
     ]
    }
   ],
   "source": [
    "df_8 = flights_data[['flight_length', 'hour']].copy()\n",
    "\n",
    "print(df_8[df_8['flight_length'] == 1.].mode())\n",
    "print(df_8[df_8['flight_length'] == 2.].mode())\n",
    "print(df_8[df_8['flight_length'] == 3.].mode())"
   ]
  },
  {
   "cell_type": "code",
   "execution_count": 9,
   "metadata": {},
   "outputs": [
    {
     "data": {
      "image/png": "[encoded data removed]",
      "text/plain": [
       "<Figure size 720x432 with 1 Axes>"
      ]
     },
     "metadata": {
      "needs_background": "light"
     },
     "output_type": "display_data"
    }
   ],
   "source": [
    "x = [\"short\",\"medium\",\"long\"]\n",
    "y = [len(df_8[df_8['flight_length'] == 1.]),len(df_8[df_8['flight_length'] == 2.]), len(df_8[df_8['flight_length'] == 3.])]\n",
    "\n",
    "plt.figure(figsize=(10,6))\n",
    "sns.barplot(x=x, y=y, palette=\"rocket\")\n",
    "plt.title(\"Flight length\")\n",
    "plt.ylabel(\"Number of flights\")\n",
    "plt.show()"
   ]
  },
  {
   "cell_type": "markdown",
   "metadata": {},
   "source": [
    "Most short-haul flights take off at 5 pm, medium-haul flights at 8 am, long-haul flights at 11 am. Most of the flights are short-haul flights."
   ]
  },
  {
   "cell_type": "markdown",
   "metadata": {},
   "source": [
    "#### **Task 9**: Find the top 10 the bussiest airports. Does the biggest number of flights mean that the biggest number of passengers went through the particular airport? How much traffic do these 10 airports cover?"
   ]
  },
  {
   "cell_type": "code",
   "execution_count": 10,
   "metadata": {},
   "outputs": [
    {
     "name": "stdout",
     "output_type": "stream",
     "text": [
      "    origin  flights_count\n",
      "248    ORD          15798\n",
      "20     ATL          15249\n",
      "90     DFW          12108\n",
      "89     DEN          11284\n",
      "188    LAX          10878\n",
      "69     CLT          10367\n",
      "262    PHX           7890\n",
      "312    SFO           7714\n",
      "310    SEA           7699\n",
      "161    IAH           7685\n"
     ]
    }
   ],
   "source": [
    "# top 10 busiest airports by flights count\n",
    "\n",
    "flights_data = pd.read_csv('flights_data.csv', low_memory=False)\n",
    "df_9 = flights_data[['origin', 'flights']].copy()\n",
    "df_9 = df_9.groupby('origin').agg(flights_count = ('flights', 'size')).reset_index().sort_values('flights_count', ascending=False)\n",
    "print(df_9[0:10])"
   ]
  },
  {
   "cell_type": "code",
   "execution_count": 11,
   "metadata": {},
   "outputs": [
    {
     "name": "stdout",
     "output_type": "stream",
     "text": [
      "    origin  passengers_count\n",
      "905    ORD              5801\n",
      "81     ATL              4325\n",
      "312    DEN              4216\n",
      "687    LAX              3766\n",
      "553    IAH              3303\n",
      "313    DFW              3155\n",
      "785    MIA              3077\n",
      "387    EWR              3005\n",
      "818    MSP              2874\n",
      "340    DTW              2760\n"
     ]
    }
   ],
   "source": [
    "#top 10 busiest airports by passengers count\n",
    "\n",
    "passengers = pd.read_csv('passengers.csv')\n",
    "passengers.columns =['departures_scheduled', 'departures_performed', 'payload', 'seats', 'passengers', 'freight', 'mail', 'distance', 'ramp_to_ramp', 'air_time', 'unique_carrier', 'airline_id', 'unique_carrier_name', 'region', 'carrier', 'carrier_name', 'carrier_group', 'carrier_group_new', 'origin_airport_id', 'origin_city_market_id', 'origin', 'origin_city_name', 'origin_country', 'origin_country_name', 'dest_airport_id', 'dest_city_market_id', 'dest', 'dest_city_name', 'dest_country', 'dest_country_name', 'aircraft_group', 'aircraft_type', 'aircraft_config', 'month', 'year', 'distance_group', 'class','test']\n",
    "passengers = passengers[['origin', 'passengers']]\n",
    "passengers_2 = passengers.groupby('origin').agg(passengers_count = ('passengers', 'size')).reset_index().sort_values('passengers_count', ascending=False)\n",
    "print(passengers_2[0:10])"
   ]
  },
  {
   "cell_type": "markdown",
   "metadata": {},
   "source": [
    "It's not always the biggest number of flights mean that the biggest number of passengers went through the particular airport."
   ]
  },
  {
   "cell_type": "markdown",
   "metadata": {},
   "source": [
    "#### **Task 10**: Do bigger delays lead to bigger fuel comsumption per passenger? \n",
    "We need to do four things to answer this as accurate as possible:\n",
    "- Find out average monthly delay per air carrier (monthly delay is sum of all delays in 1 month)\n",
    "- Find out distance covered monthly by different air carriers\n",
    "- Find out number of passengers that were carried by different air carriers\n",
    "- Find out total fuel comsumption per air carrier.\n",
    "\n",
    "Use this information to get the average fuel comsumption per passenger per km. Is this higher for the airlines with bigger average delays?"
   ]
  },
  {
   "cell_type": "markdown",
   "metadata": {},
   "source": [
    "* Average monthly delay per air carrier"
   ]
  },
  {
   "cell_type": "code",
   "execution_count": 21,
   "metadata": {},
   "outputs": [],
   "source": [
    "flights_data_10 = pd.read_csv('flights_data_all_2019_Months.csv')"
   ]
  },
  {
   "cell_type": "code",
   "execution_count": 22,
   "metadata": {},
   "outputs": [],
   "source": [
    "#extracting month\n",
    "flights_data_10['month'] = pd.DatetimeIndex(flights_data_10['fl_date']).month"
   ]
  },
  {
   "cell_type": "code",
   "execution_count": 23,
   "metadata": {},
   "outputs": [],
   "source": [
    "#calculating all delays\n",
    "flights_data_10[['arr_delay', 'carrier_delay', 'weather_delay', 'nas_delay', 'security_delay', 'late_aircraft_delay' ]] = flights_data_10[['arr_delay', 'carrier_delay', 'weather_delay', 'nas_delay', 'security_delay', 'late_aircraft_delay' ]].fillna(0)\n",
    "flights_data_10['all delays'] = flights_data_10['arr_delay'] + flights_data_10['carrier_delay'] + flights_data_10['weather_delay'] + flights_data_10['nas_delay'] + flights_data_10['security_delay'] + flights_data_10['late_aircraft_delay']"
   ]
  },
  {
   "cell_type": "code",
   "execution_count": 24,
   "metadata": {},
   "outputs": [],
   "source": [
    "#taking 3 columns\n",
    "flights_data_10 = flights_data_10[['mkt_carrier','month', 'all delays' ]]"
   ]
  },
  {
   "cell_type": "code",
   "execution_count": 25,
   "metadata": {},
   "outputs": [],
   "source": [
    "#group by each month average\n",
    "flights_data_10 = flights_data_10.groupby(['mkt_carrier', 'month']).agg(monthly_delay = ('all delays', 'mean')).reset_index()"
   ]
  },
  {
   "cell_type": "code",
   "execution_count": 26,
   "metadata": {},
   "outputs": [
    {
     "name": "stdout",
     "output_type": "stream",
     "text": [
      "  mkt_carrier  av_monthly_delay\n",
      "0          AA         19.452724\n",
      "1          AS         10.393595\n",
      "2          B6         30.304836\n",
      "3          DL         13.836833\n",
      "4          F9         25.069847\n",
      "5          G4         22.008813\n",
      "6          HA          5.833097\n",
      "7          NK         17.998756\n",
      "8          UA         27.839708\n",
      "9          WN         10.837246\n"
     ]
    }
   ],
   "source": [
    "#average monthly delay\n",
    "flights_data_10 = flights_data_10.groupby(['mkt_carrier']).agg(av_monthly_delay = ('monthly_delay', 'mean')).reset_index()\n",
    "print(flights_data_10)"
   ]
  },
  {
   "cell_type": "code",
   "execution_count": 28,
   "metadata": {
    "tags": []
   },
   "outputs": [
    {
     "data": {
      "image/png": "[encoded data removed]",
      "text/plain": [
       "<Figure size 1080x432 with 1 Axes>"
      ]
     },
     "metadata": {
      "needs_background": "light"
     },
     "output_type": "display_data"
    }
   ],
   "source": [
    "x = flights_data_10['mkt_carrier']\n",
    "y = flights_data_10['av_monthly_delay']\n",
    "\n",
    "plt.figure(figsize=(15,6))\n",
    "sns.barplot(x=x, y=y, palette=\"rocket\")\n",
    "plt.title(\"Average monthly delay per air carrier, 2019\")\n",
    "plt.ylabel(\"Average monthly delay, minutes\")\n",
    "plt.xlabel(\"Air carrier\")\n",
    "plt.show()"
   ]
  },
  {
   "cell_type": "markdown",
   "metadata": {},
   "source": [
    "* Percent of extreme weather delays"
   ]
  },
  {
   "cell_type": "code",
   "execution_count": 63,
   "metadata": {},
   "outputs": [
    {
     "name": "stdout",
     "output_type": "stream",
     "text": [
      "3.59\n"
     ]
    }
   ],
   "source": [
    "flights_data_weather = pd.read_csv('flights_data_all_2019_Months.csv')\n",
    "flights_data_weather[['arr_delay', 'carrier_delay', 'weather_delay', 'nas_delay', 'security_delay', 'late_aircraft_delay' ]] = flights_data_weather[['arr_delay', 'carrier_delay', 'weather_delay', 'nas_delay', 'security_delay', 'late_aircraft_delay' ]].fillna(0)\n",
    "flights_data_weather['all delays'] = flights_data_weather['arr_delay'] + flights_data_weather['carrier_delay'] + flights_data_weather['weather_delay'] + flights_data_weather['nas_delay'] + flights_data_weather['security_delay'] + flights_data_weather['late_aircraft_delay']\n",
    "\n",
    "print((((flights_data_weather['weather_delay'].sum()) / (flights_data_weather['all delays'].sum())) *100).round(2))"
   ]
  },
  {
   "cell_type": "markdown",
   "metadata": {},
   "source": [
    "Extreme weather accounted for only 3.59% of all delays in 2019."
   ]
  },
  {
   "cell_type": "markdown",
   "metadata": {},
   "source": [
    "* Distance covered monthly by different air carriers"
   ]
  },
  {
   "cell_type": "code",
   "execution_count": 40,
   "metadata": {},
   "outputs": [],
   "source": [
    "flights_data_10_2 = pd.read_csv('flights_data_all_2019_Months.csv')"
   ]
  },
  {
   "cell_type": "code",
   "execution_count": 41,
   "metadata": {},
   "outputs": [],
   "source": [
    "#extracting month\n",
    "flights_data_10_2['month'] = pd.DatetimeIndex(flights_data_10_2['fl_date']).month"
   ]
  },
  {
   "cell_type": "code",
   "execution_count": 42,
   "metadata": {},
   "outputs": [
    {
     "data": {
      "text/plain": [
       "0"
      ]
     },
     "execution_count": 42,
     "metadata": {},
     "output_type": "execute_result"
    }
   ],
   "source": [
    "#checking null values\n",
    "flights_data_10_2['distance'].isnull().sum()"
   ]
  },
  {
   "cell_type": "code",
   "execution_count": 43,
   "metadata": {},
   "outputs": [],
   "source": [
    "#taking 3 columns\n",
    "flights_data_10_2 = flights_data_10_2[['mkt_carrier','month', 'distance' ]]"
   ]
  },
  {
   "cell_type": "code",
   "execution_count": 44,
   "metadata": {
    "tags": []
   },
   "outputs": [],
   "source": [
    "#group by each month distance (sum)\n",
    "flights_data_10_2 = flights_data_10_2.groupby(['mkt_carrier', 'month']).agg(monthly_distance = ('distance', 'sum')).reset_index()"
   ]
  },
  {
   "cell_type": "code",
   "execution_count": 45,
   "metadata": {},
   "outputs": [
    {
     "name": "stdout",
     "output_type": "stream",
     "text": [
      "  mkt_carrier  av_monthly_distance\n",
      "0          AA              4522003\n",
      "1          AS              1357462\n",
      "2          B6              1044995\n",
      "3          DL              3808326\n",
      "4          F9               419391\n",
      "5          G4               286758\n",
      "6          HA               196295\n",
      "7          NK               626652\n",
      "8          UA              3848613\n",
      "9          WN              3109201\n"
     ]
    }
   ],
   "source": [
    "#average distance covered monthly by different air carriers\n",
    "flights_data_10_2 = flights_data_10_2.groupby(['mkt_carrier']).agg(av_monthly_distance = ('monthly_distance', 'mean')).reset_index()\n",
    "flights_data_10_2['av_monthly_distance'] = flights_data_10_2['av_monthly_distance'].astype(int)\n",
    "print(flights_data_10_2)"
   ]
  },
  {
   "cell_type": "code",
   "execution_count": 49,
   "metadata": {},
   "outputs": [
    {
     "data": {
      "image/png": "[encoded data removed]",
      "text/plain": [
       "<Figure size 1080x432 with 1 Axes>"
      ]
     },
     "metadata": {
      "needs_background": "light"
     },
     "output_type": "display_data"
    }
   ],
   "source": [
    "x = flights_data_10_2['mkt_carrier']\n",
    "y = flights_data_10_2['av_monthly_distance'].astype(int)\n",
    "\n",
    "plt.figure(figsize=(15,6))\n",
    "sns.barplot(x=x, y=y, palette=\"rocket\")\n",
    "plt.title(\"Average distance covered monthly by different air carriers, 2019\")\n",
    "plt.ylabel(\"Average monthly Distance, miles\")\n",
    "plt.xlabel(\"Air carrier\")\n",
    "plt.show()"
   ]
  },
  {
   "cell_type": "markdown",
   "metadata": {},
   "source": [
    "* Find out number of passengers that were carried by different air carriers"
   ]
  },
  {
   "cell_type": "code",
   "execution_count": 70,
   "metadata": {},
   "outputs": [
    {
     "data": {
      "text/plain": [
       "array(['AS', 'B6', 'AA', 'DL', 'UA', 'NK', 'WN', 'HA', 'G4', 'F9'],\n",
       "      dtype=object)"
      ]
     },
     "execution_count": 70,
     "metadata": {},
     "output_type": "execute_result"
    }
   ],
   "source": [
    "# carriers from flights table\n",
    "flights_data_car = pd.read_csv('flights_data_all_2019_Months.csv')\n",
    "flights_data_car['mkt_carrier'].unique()"
   ]
  },
  {
   "cell_type": "code",
   "execution_count": 74,
   "metadata": {},
   "outputs": [
    {
     "data": {
      "text/html": [
       "<div>\n",
       "<style scoped>\n",
       "    .dataframe tbody tr th:only-of-type {\n",
       "        vertical-align: middle;\n",
       "    }\n",
       "\n",
       "    .dataframe tbody tr th {\n",
       "        vertical-align: top;\n",
       "    }\n",
       "\n",
       "    .dataframe thead th {\n",
       "        text-align: right;\n",
       "    }\n",
       "</style>\n",
       "<table border=\"1\" class=\"dataframe\">\n",
       "  <thead>\n",
       "    <tr style=\"text-align: right;\">\n",
       "      <th></th>\n",
       "      <th>passengers</th>\n",
       "      <th>month</th>\n",
       "      <th>carrier</th>\n",
       "    </tr>\n",
       "  </thead>\n",
       "  <tbody>\n",
       "  </tbody>\n",
       "</table>\n",
       "</div>"
      ],
      "text/plain": [
       "Empty DataFrame\n",
       "Columns: [passengers, month, carrier]\n",
       "Index: []"
      ]
     },
     "execution_count": 74,
     "metadata": {},
     "output_type": "execute_result"
    }
   ],
   "source": [
    "# carriers from passengers table\n",
    "passengers_all_car = pd.read_csv('passengers_all_2019.csv')\n",
    "passengers_all_car = passengers_all_car[['passengers', 'month', 'carrier']]\n",
    "\n",
    "# carriers unique values from flights table for passengers table\n",
    "passengers_all_car.loc[passengers_all_car['carrier'].isin(['AS' 'B6' 'AA' 'DL' 'UA' 'NK' 'WN' 'HA' 'G4' 'F9'])]"
   ]
  },
  {
   "cell_type": "code",
   "execution_count": 75,
   "metadata": {},
   "outputs": [],
   "source": [
    "# group by each month average\n",
    "passengers_all_car = passengers_all_car.groupby(['carrier', 'month']).agg(monthly_passengers = ('passengers', 'sum')).reset_index()"
   ]
  },
  {
   "cell_type": "code",
   "execution_count": 76,
   "metadata": {},
   "outputs": [
    {
     "name": "stdout",
     "output_type": "stream",
     "text": [
      "    carrier  av_monthly_passengers\n",
      "0       02Q                    295\n",
      "1       04Q                   3774\n",
      "2       07Q                  10577\n",
      "3       09Q                 125286\n",
      "4       0BQ                      6\n",
      "..      ...                    ...\n",
      "318      YX                1573243\n",
      "319      Z3                    555\n",
      "320     Z3Q                   2592\n",
      "321      ZW                 342195\n",
      "322      ZX                  72611\n",
      "\n",
      "[323 rows x 2 columns]\n"
     ]
    }
   ],
   "source": [
    "# average monthly number of passengers that were carried by different air carriers\n",
    "passengers_all_car = passengers_all_car.groupby(['carrier']).agg(av_monthly_passengers = ('monthly_passengers', 'mean')).reset_index()\n",
    "passengers_all_car['av_monthly_passengers'] = passengers_all_car['av_monthly_passengers'].astype(int)\n",
    "\n",
    "print(passengers_all_car)"
   ]
  },
  {
   "cell_type": "code",
   "execution_count": null,
   "metadata": {},
   "outputs": [],
   "source": []
  }
 ],
 "metadata": {
  "kernelspec": {
   "display_name": "Python 3",
   "language": "python",
   "name": "python3"
  },
  "language_info": {
   "codemirror_mode": {
    "name": "ipython",
    "version": 3
   },
   "file_extension": ".py",
   "mimetype": "text/x-python",
   "name": "python",
   "nbconvert_exporter": "python",
   "pygments_lexer": "ipython3",
   "version": "3.8.8"
  },
  "toc": {
   "base_numbering": 1,
   "nav_menu": {},
   "number_sections": true,
   "sideBar": true,
   "skip_h1_title": false,
   "title_cell": "Table of Contents",
   "title_sidebar": "Contents",
   "toc_cell": false,
   "toc_position": {},
   "toc_section_display": true,
   "toc_window_display": false
  },
  "varInspector": {
   "cols": {
    "lenName": 16,
    "lenType": 16,
    "lenVar": 40
   },
   "kernels_config": {
    "python": {
     "delete_cmd_postfix": "",
     "delete_cmd_prefix": "del ",
     "library": "var_list.py",
     "varRefreshCmd": "print(var_dic_list())"
    },
    "r": {
     "delete_cmd_postfix": ") ",
     "delete_cmd_prefix": "rm(",
     "library": "var_list.r",
     "varRefreshCmd": "cat(var_dic_list()) "
    }
   },
   "types_to_exclude": [
    "module",
    "function",
    "builtin_function_or_method",
    "instance",
    "_Feature"
   ],
   "window_display": false
  }
 },
 "nbformat": 4,
 "nbformat_minor": 4
}